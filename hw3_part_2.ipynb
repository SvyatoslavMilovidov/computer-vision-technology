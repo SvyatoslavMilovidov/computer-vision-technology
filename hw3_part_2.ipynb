{
 "cells": [
  {
   "cell_type": "code",
   "execution_count": 1,
   "id": "8c11a5cd-c2ce-434a-86fa-8281fadae407",
   "metadata": {},
   "outputs": [],
   "source": [
    "import cv2\n",
    "import glob \n",
    "import os\n",
    "import numpy as np\n",
    "import matplotlib.pyplot as plt\n",
    "from tqdm import tqdm"
   ]
  },
  {
   "cell_type": "code",
   "execution_count": 2,
   "id": "4467af4c-61a0-4e30-a4c8-8f847fd9ffec",
   "metadata": {},
   "outputs": [],
   "source": [
    "labels = glob.glob('DATA/train/*')"
   ]
  },
  {
   "cell_type": "code",
   "execution_count": 3,
   "id": "e49626b0-63a1-420a-9a00-30e05904b658",
   "metadata": {},
   "outputs": [],
   "source": [
    "labels = [el[11:] for el in labels]"
   ]
  },
  {
   "cell_type": "code",
   "execution_count": 4,
   "id": "d193d705-f0b3-4691-8e77-567ba24dd941",
   "metadata": {},
   "outputs": [
    {
     "data": {
      "text/plain": [
       "['dancing charleston',\n",
       " 'dancing gangnam style',\n",
       " 'dancing ballet',\n",
       " 'tango dancing']"
      ]
     },
     "execution_count": 4,
     "metadata": {},
     "output_type": "execute_result"
    }
   ],
   "source": [
    "#определим имена классов\n",
    "labels"
   ]
  },
  {
   "cell_type": "code",
   "execution_count": 30,
   "id": "4d965c39-0d3b-46f3-a065-4dbcf10c1274",
   "metadata": {},
   "outputs": [
    {
     "data": {
      "text/plain": [
       "<torch._C.Generator at 0x1668847d0>"
      ]
     },
     "execution_count": 30,
     "metadata": {},
     "output_type": "execute_result"
    }
   ],
   "source": [
    "import torch\n",
    "import torchvision\n",
    "from torch.utils.data import Dataset\n",
    "from sklearn.metrics import accuracy_score, f1_score\n",
    "torch.manual_seed(0)"
   ]
  },
  {
   "cell_type": "code",
   "execution_count": 31,
   "id": "6c258681-c934-4537-b396-0359172bc1f8",
   "metadata": {},
   "outputs": [],
   "source": [
    "device = torch.device(\"mps\")"
   ]
  },
  {
   "cell_type": "markdown",
   "id": "9c8d78b6-a650-4470-b783-7fc2106a235d",
   "metadata": {},
   "source": [
    "# Exp 2\n",
    "## Mediapipe + LSTM"
   ]
  },
  {
   "cell_type": "code",
   "execution_count": 7,
   "id": "fd4d88b2-8d5c-44c9-8ba2-6e593f89f7d7",
   "metadata": {},
   "outputs": [],
   "source": [
    "import mediapipe as mp"
   ]
  },
  {
   "cell_type": "code",
   "execution_count": 8,
   "id": "b791f871-9591-43b5-bccc-77a73fe5c8cc",
   "metadata": {},
   "outputs": [
    {
     "name": "stderr",
     "output_type": "stream",
     "text": [
      "WARNING: All log messages before absl::InitializeLog() is called are written to STDERR\n",
      "I0000 00:00:1715201910.242522       1 gl_context.cc:344] GL version: 2.1 (2.1 Metal - 76.3), renderer: Apple M1\n"
     ]
    }
   ],
   "source": [
    "mpPose = mp.solutions.pose\n",
    "pose = mpPose.Pose(static_image_mode=True)"
   ]
  },
  {
   "cell_type": "markdown",
   "id": "539e1231",
   "metadata": {},
   "source": [
    "Предварительно получим точки для последующего обучения модели"
   ]
  },
  {
   "cell_type": "code",
   "execution_count": 9,
   "id": "791ec2b0-db5a-471b-9f3c-1322ba8de227",
   "metadata": {},
   "outputs": [
    {
     "name": "stderr",
     "output_type": "stream",
     "text": [
      "INFO: Created TensorFlow Lite XNNPACK delegate for CPU.\n"
     ]
    }
   ],
   "source": [
    "def read_img(path):\n",
    "    cap = cv2.VideoCapture(path)\n",
    "    imgs_list = []\n",
    "    i = 0\n",
    "    while cap.isOpened():\n",
    "        ret, img = cap.read()\n",
    "        if ret == True:\n",
    "            imgs_list.append(cv2.cvtColor(img, cv2.COLOR_BGR2RGB))\n",
    "        else: \n",
    "            break\n",
    "    imgs_list = [imgs_list[el] for el in np.linspace(0, len(imgs_list)-1, 10).astype(np.int8)]\n",
    "    return imgs_list\n",
    "\n",
    "def get_results_lms(results):\n",
    "    x = []\n",
    "    y = []\n",
    "    z = []\n",
    "    if results.pose_landmarks != None:\n",
    "        for lm in results.pose_landmarks.landmark:\n",
    "            x.append(lm.x)\n",
    "            y.append(lm.y)\n",
    "            z.append(lm.z)\n",
    "        lms = np.stack([x, y ,z])\n",
    "        lms = lms.reshape(-1)\n",
    "    else:\n",
    "        lms = np.zeros(99)\n",
    "    return lms\n",
    "    \n",
    "def prep_data(labels, train_flag=True):\n",
    "    if train_flag:\n",
    "        paths = glob.glob('Data/train/*/*.mp4')\n",
    "    else:\n",
    "        paths = glob.glob('Data/val/*/*.mp4')\n",
    "\n",
    "    lms_list = []\n",
    "    labels_list = []\n",
    "    for i in tqdm(range(len(paths))):\n",
    "        image = read_img(paths[i])\n",
    "        for j in range(len(labels)):\n",
    "            if labels[j] in paths[i]:\n",
    "                label = j\n",
    "        lms = []\n",
    "        for img in image:\n",
    "            lms.append(get_results_lms(pose.process(img)))\n",
    "        lms = np.asarray(lms)\n",
    "        \n",
    "        lms_list.append(lms)\n",
    "        labels_list.append(label)\n",
    "    return np.asarray(lms_list), np.asarray(labels_list)"
   ]
  },
  {
   "cell_type": "code",
   "execution_count": 10,
   "id": "c1c62d8c-d0e8-4da5-b2c3-aeb96f01d2e8",
   "metadata": {},
   "outputs": [
    {
     "name": "stderr",
     "output_type": "stream",
     "text": [
      "100%|███████████████████████████████████████| 3767/3767 [24:56<00:00,  2.52it/s]\n",
      "100%|█████████████████████████████████████████| 194/194 [01:15<00:00,  2.57it/s]\n"
     ]
    }
   ],
   "source": [
    "lms_train, labels_train = prep_data(labels)\n",
    "lms_test, labels_test = prep_data(labels, train_flag=False)"
   ]
  },
  {
   "cell_type": "code",
   "execution_count": 12,
   "id": "058e040a-59e2-454f-a772-990010d55a7a",
   "metadata": {},
   "outputs": [],
   "source": [
    "class CustomLMSDataset(Dataset):\n",
    "    def __init__(self, lms, labels):\n",
    "        self.lms = lms\n",
    "        self.labels = labels\n",
    "\n",
    "    def __len__(self):\n",
    "        return len(self.labels)\n",
    "    \n",
    "    def __getitem__(self, idx):\n",
    "        lm = self.lms[idx]\n",
    "        label = self.labels[idx]\n",
    "        return lm, label"
   ]
  },
  {
   "cell_type": "code",
   "execution_count": 32,
   "id": "af381e11-9e42-41ff-98ca-e0a98bf78593",
   "metadata": {},
   "outputs": [],
   "source": [
    "train_loader = torch.utils.data.DataLoader(\n",
    "    CustomLMSDataset(lms_train, labels_train), \n",
    "    batch_size=256, shuffle=True,\n",
    ")\n",
    "test_loader = torch.utils.data.DataLoader(\n",
    "    CustomLMSDataset(lms_test, labels_test), \n",
    "    batch_size=256, shuffle=True,\n",
    ")"
   ]
  },
  {
   "cell_type": "code",
   "execution_count": 49,
   "id": "94d5d083-717b-4315-8b0d-13f1329769c1",
   "metadata": {},
   "outputs": [],
   "source": [
    "class LSTM_model(torch.nn.Module):\n",
    "    def __init__(self):\n",
    "        super(LSTM_model, self).__init__()\n",
    "        self.lstm1 = torch.nn.LSTM(99, 128)\n",
    "        self.lstm2 = torch.nn.LSTM(128, 64)\n",
    "        self.dropout = torch.nn.Dropout(p = 0.4)\n",
    "        self.lin1 = torch.nn.Linear(64*10, 256)\n",
    "        self.lin2 = torch.nn.Linear(256, 4)\n",
    "        self.softmax1 = torch.nn.Softmax(dim=1)\n",
    "\n",
    "    def forward(self, x):\n",
    "        x, _ = self.lstm1(x)\n",
    "        x, _ = self.lstm2(x)\n",
    "        x = self.dropout(x.view(len(x), -1))\n",
    "        x = self.lin1(x)\n",
    "        x = self.lin2(x)\n",
    "        x = self.softmax1(x)\n",
    "        return x"
   ]
  },
  {
   "cell_type": "code",
   "execution_count": 50,
   "id": "d366c063-3888-47e5-b1b3-36e2478687d6",
   "metadata": {},
   "outputs": [],
   "source": [
    "lstm_model = LSTM_model()"
   ]
  },
  {
   "cell_type": "code",
   "execution_count": 51,
   "id": "eac0f114-7a52-49b0-bbb2-7d5102a731e6",
   "metadata": {},
   "outputs": [],
   "source": [
    "criterion = torch.nn.CrossEntropyLoss()\n",
    "optimizer = torch.optim.Adam(lstm_model.parameters(), lr=0.0005)"
   ]
  },
  {
   "cell_type": "code",
   "execution_count": 52,
   "id": "e6a80b04-57cc-4b35-854a-fff46637dc1b",
   "metadata": {
    "scrolled": true
   },
   "outputs": [
    {
     "name": "stdout",
     "output_type": "stream",
     "text": [
      "Start training\n",
      "_____________________\n",
      "EPOCH:  1\n"
     ]
    },
    {
     "name": "stderr",
     "output_type": "stream",
     "text": [
      "100%|███████████████████████████████████████████| 15/15 [00:01<00:00, 13.27it/s]\n"
     ]
    },
    {
     "name": "stdout",
     "output_type": "stream",
     "text": [
      "train_loss =  1.386348565419515\n",
      "Train: accuracy = 0.251135587431694, F1 = 0.10684840162400576\n",
      "val_loss =  1.3842321634292603\n",
      "Test: accuracy = 0.27319587628865977, F1 = 0.15676986871650303\n",
      "\n",
      "\n",
      "_____________________\n",
      "EPOCH:  2\n"
     ]
    },
    {
     "name": "stderr",
     "output_type": "stream",
     "text": [
      "100%|███████████████████████████████████████████| 15/15 [00:01<00:00, 13.84it/s]\n"
     ]
    },
    {
     "name": "stdout",
     "output_type": "stream",
     "text": [
      "train_loss =  1.3785974661509195\n",
      "Train: accuracy = 0.2881119080145719, F1 = 0.19056586215649382\n",
      "val_loss =  1.3697797060012817\n",
      "Test: accuracy = 0.28350515463917525, F1 = 0.17922301982408884\n",
      "\n",
      "\n",
      "_____________________\n",
      "EPOCH:  3\n"
     ]
    },
    {
     "name": "stderr",
     "output_type": "stream",
     "text": [
      "100%|███████████████████████████████████████████| 15/15 [00:01<00:00, 13.84it/s]\n"
     ]
    },
    {
     "name": "stdout",
     "output_type": "stream",
     "text": [
      "train_loss =  1.3432172536849976\n",
      "Train: accuracy = 0.3438866120218579, F1 = 0.23166350614838868\n",
      "val_loss =  1.3374061584472656\n",
      "Test: accuracy = 0.32989690721649484, F1 = 0.22019160678954497\n",
      "\n",
      "\n",
      "_____________________\n",
      "EPOCH:  4\n"
     ]
    },
    {
     "name": "stderr",
     "output_type": "stream",
     "text": [
      "100%|███████████████████████████████████████████| 15/15 [00:01<00:00, 14.26it/s]\n"
     ]
    },
    {
     "name": "stdout",
     "output_type": "stream",
     "text": [
      "train_loss =  1.3101783037185668\n",
      "Train: accuracy = 0.3772185223132969, F1 = 0.2860528496565912\n",
      "val_loss =  1.305474042892456\n",
      "Test: accuracy = 0.3711340206185567, F1 = 0.2915384327746414\n",
      "\n",
      "\n",
      "_____________________\n",
      "EPOCH:  5\n"
     ]
    },
    {
     "name": "stderr",
     "output_type": "stream",
     "text": [
      "100%|███████████████████████████████████████████| 15/15 [00:01<00:00, 14.39it/s]\n"
     ]
    },
    {
     "name": "stdout",
     "output_type": "stream",
     "text": [
      "train_loss =  1.301603945096334\n",
      "Train: accuracy = 0.3970116120218579, F1 = 0.35269348293187563\n",
      "val_loss =  1.3073498010635376\n",
      "Test: accuracy = 0.3711340206185567, F1 = 0.3131591018643778\n",
      "\n",
      "\n",
      "_____________________\n",
      "EPOCH:  6\n"
     ]
    },
    {
     "name": "stderr",
     "output_type": "stream",
     "text": [
      "100%|███████████████████████████████████████████| 15/15 [00:01<00:00, 14.37it/s]\n"
     ]
    },
    {
     "name": "stdout",
     "output_type": "stream",
     "text": [
      "train_loss =  1.2964257717132568\n",
      "Train: accuracy = 0.40076132741347903, F1 = 0.3780099197448176\n",
      "val_loss =  1.2956130504608154\n",
      "Test: accuracy = 0.44329896907216493, F1 = 0.44819377685542505\n",
      "\n",
      "\n",
      "_____________________\n",
      "EPOCH:  7\n"
     ]
    },
    {
     "name": "stderr",
     "output_type": "stream",
     "text": [
      "100%|███████████████████████████████████████████| 15/15 [00:01<00:00, 14.33it/s]\n"
     ]
    },
    {
     "name": "stdout",
     "output_type": "stream",
     "text": [
      "train_loss =  1.2944124221801758\n",
      "Train: accuracy = 0.4037269467213115, F1 = 0.3802426478066946\n",
      "val_loss =  1.298969030380249\n",
      "Test: accuracy = 0.4020618556701031, F1 = 0.37405993909837\n",
      "\n",
      "\n",
      "_____________________\n",
      "EPOCH:  8\n"
     ]
    },
    {
     "name": "stderr",
     "output_type": "stream",
     "text": [
      "100%|███████████████████████████████████████████| 15/15 [00:01<00:00, 14.44it/s]\n"
     ]
    },
    {
     "name": "stdout",
     "output_type": "stream",
     "text": [
      "train_loss =  1.292873167991638\n",
      "Train: accuracy = 0.3993510928961748, F1 = 0.3861970791537992\n",
      "val_loss =  1.2912027835845947\n",
      "Test: accuracy = 0.4381443298969072, F1 = 0.4355693283110268\n",
      "\n",
      "\n",
      "_____________________\n",
      "EPOCH:  9\n"
     ]
    },
    {
     "name": "stderr",
     "output_type": "stream",
     "text": [
      "100%|███████████████████████████████████████████| 15/15 [00:01<00:00, 14.44it/s]\n"
     ]
    },
    {
     "name": "stdout",
     "output_type": "stream",
     "text": [
      "train_loss =  1.2879480123519897\n",
      "Train: accuracy = 0.4128927595628415, F1 = 0.39619520409058634\n",
      "val_loss =  1.286903977394104\n",
      "Test: accuracy = 0.41237113402061853, F1 = 0.397827427116564\n",
      "\n",
      "\n",
      "_____________________\n",
      "EPOCH:  10\n"
     ]
    },
    {
     "name": "stderr",
     "output_type": "stream",
     "text": [
      "100%|███████████████████████████████████████████| 15/15 [00:01<00:00, 14.31it/s]\n"
     ]
    },
    {
     "name": "stdout",
     "output_type": "stream",
     "text": [
      "train_loss =  1.2843441804250082\n",
      "Train: accuracy = 0.42273878642987245, F1 = 0.3987110365190858\n",
      "val_loss =  1.296269178390503\n",
      "Test: accuracy = 0.42783505154639173, F1 = 0.3919808506671787\n",
      "\n",
      "\n",
      "_____________________\n",
      "EPOCH:  11\n"
     ]
    },
    {
     "name": "stderr",
     "output_type": "stream",
     "text": [
      "100%|███████████████████████████████████████████| 15/15 [00:01<00:00, 14.33it/s]\n"
     ]
    },
    {
     "name": "stdout",
     "output_type": "stream",
     "text": [
      "train_loss =  1.2877519925435383\n",
      "Train: accuracy = 0.4133637864298725, F1 = 0.39833979963082417\n",
      "val_loss =  1.2920069694519043\n",
      "Test: accuracy = 0.422680412371134, F1 = 0.41213106724678117\n",
      "\n",
      "\n",
      "_____________________\n",
      "EPOCH:  12\n"
     ]
    },
    {
     "name": "stderr",
     "output_type": "stream",
     "text": [
      "100%|███████████████████████████████████████████| 15/15 [00:01<00:00, 14.33it/s]\n"
     ]
    },
    {
     "name": "stdout",
     "output_type": "stream",
     "text": [
      "train_loss =  1.2781192143758138\n",
      "Train: accuracy = 0.43565573770491806, F1 = 0.42423622254840254\n",
      "val_loss =  1.268178939819336\n",
      "Test: accuracy = 0.4536082474226804, F1 = 0.4533077154200117\n",
      "\n",
      "\n",
      "_____________________\n",
      "EPOCH:  13\n"
     ]
    },
    {
     "name": "stderr",
     "output_type": "stream",
     "text": [
      "100%|███████████████████████████████████████████| 15/15 [00:01<00:00, 14.39it/s]\n"
     ]
    },
    {
     "name": "stdout",
     "output_type": "stream",
     "text": [
      "train_loss =  1.2745820999145507\n",
      "Train: accuracy = 0.440338968579235, F1 = 0.4349164103546551\n",
      "val_loss =  1.262740969657898\n",
      "Test: accuracy = 0.4639175257731959, F1 = 0.46257283729269394\n",
      "\n",
      "\n",
      "_____________________\n",
      "EPOCH:  14\n"
     ]
    },
    {
     "name": "stderr",
     "output_type": "stream",
     "text": [
      "100%|███████████████████████████████████████████| 15/15 [00:01<00:00, 14.38it/s]\n"
     ]
    },
    {
     "name": "stdout",
     "output_type": "stream",
     "text": [
      "train_loss =  1.27058740456899\n",
      "Train: accuracy = 0.4462758993624772, F1 = 0.44106520702899465\n",
      "val_loss =  1.2536033391952515\n",
      "Test: accuracy = 0.4793814432989691, F1 = 0.4736274848320427\n",
      "\n",
      "\n",
      "_____________________\n",
      "EPOCH:  15\n"
     ]
    },
    {
     "name": "stderr",
     "output_type": "stream",
     "text": [
      "100%|███████████████████████████████████████████| 15/15 [00:01<00:00, 14.34it/s]\n"
     ]
    },
    {
     "name": "stdout",
     "output_type": "stream",
     "text": [
      "train_loss =  1.2641191005706787\n",
      "Train: accuracy = 0.4563809198542805, F1 = 0.452209510850088\n",
      "val_loss =  1.2503410577774048\n",
      "Test: accuracy = 0.4690721649484536, F1 = 0.4595082349608513\n",
      "\n",
      "\n",
      "_____________________\n",
      "EPOCH:  16\n"
     ]
    },
    {
     "name": "stderr",
     "output_type": "stream",
     "text": [
      "100%|███████████████████████████████████████████| 15/15 [00:01<00:00, 14.38it/s]\n"
     ]
    },
    {
     "name": "stdout",
     "output_type": "stream",
     "text": [
      "train_loss =  1.263494650522868\n",
      "Train: accuracy = 0.45081113387978144, F1 = 0.43525944175818093\n",
      "val_loss =  1.2333941459655762\n",
      "Test: accuracy = 0.4845360824742268, F1 = 0.47571135415560106\n",
      "\n",
      "\n",
      "_____________________\n",
      "EPOCH:  17\n"
     ]
    },
    {
     "name": "stderr",
     "output_type": "stream",
     "text": [
      "100%|███████████████████████████████████████████| 15/15 [00:01<00:00, 14.28it/s]\n"
     ]
    },
    {
     "name": "stdout",
     "output_type": "stream",
     "text": [
      "train_loss =  1.252813164393107\n",
      "Train: accuracy = 0.46351747495446266, F1 = 0.4578684668853177\n",
      "val_loss =  1.2257133722305298\n",
      "Test: accuracy = 0.520618556701031, F1 = 0.5194261902945684\n",
      "\n",
      "\n",
      "_____________________\n",
      "EPOCH:  18\n"
     ]
    },
    {
     "name": "stderr",
     "output_type": "stream",
     "text": [
      "100%|███████████████████████████████████████████| 15/15 [00:01<00:00, 14.32it/s]\n"
     ]
    },
    {
     "name": "stdout",
     "output_type": "stream",
     "text": [
      "train_loss =  1.2473286390304565\n",
      "Train: accuracy = 0.471588968579235, F1 = 0.46811228815846323\n",
      "val_loss =  1.2231249809265137\n",
      "Test: accuracy = 0.4948453608247423, F1 = 0.4925098630907241\n",
      "\n",
      "\n",
      "_____________________\n",
      "EPOCH:  19\n"
     ]
    },
    {
     "name": "stderr",
     "output_type": "stream",
     "text": [
      "100%|███████████████████████████████████████████| 15/15 [00:01<00:00, 14.35it/s]\n"
     ]
    },
    {
     "name": "stdout",
     "output_type": "stream",
     "text": [
      "train_loss =  1.2539567550023396\n",
      "Train: accuracy = 0.460655737704918, F1 = 0.4502986463478178\n",
      "val_loss =  1.2209746837615967\n",
      "Test: accuracy = 0.5103092783505154, F1 = 0.5058851801119842\n",
      "\n",
      "\n",
      "_____________________\n",
      "EPOCH:  20\n"
     ]
    },
    {
     "name": "stderr",
     "output_type": "stream",
     "text": [
      "100%|███████████████████████████████████████████| 15/15 [00:01<00:00, 14.27it/s]\n"
     ]
    },
    {
     "name": "stdout",
     "output_type": "stream",
     "text": [
      "train_loss =  1.2443174282709757\n",
      "Train: accuracy = 0.47768385701275046, F1 = 0.46835928203776067\n",
      "val_loss =  1.2199612855911255\n",
      "Test: accuracy = 0.5103092783505154, F1 = 0.5038919164756445\n",
      "\n",
      "\n",
      "_____________________\n",
      "EPOCH:  21\n"
     ]
    },
    {
     "name": "stderr",
     "output_type": "stream",
     "text": [
      "100%|███████████████████████████████████████████| 15/15 [00:01<00:00, 14.33it/s]\n"
     ]
    },
    {
     "name": "stdout",
     "output_type": "stream",
     "text": [
      "train_loss =  1.2413419802983603\n",
      "Train: accuracy = 0.47992657103825137, F1 = 0.47137394695789675\n",
      "val_loss =  1.2149600982666016\n",
      "Test: accuracy = 0.4948453608247423, F1 = 0.49321571489325533\n",
      "\n",
      "\n",
      "_____________________\n",
      "EPOCH:  22\n"
     ]
    },
    {
     "name": "stderr",
     "output_type": "stream",
     "text": [
      "100%|███████████████████████████████████████████| 15/15 [00:01<00:00, 14.31it/s]\n"
     ]
    },
    {
     "name": "stdout",
     "output_type": "stream",
     "text": [
      "train_loss =  1.2391188621520997\n",
      "Train: accuracy = 0.48273565573770494, F1 = 0.4722220447433513\n",
      "val_loss =  1.2236731052398682\n",
      "Test: accuracy = 0.520618556701031, F1 = 0.5168147884820475\n",
      "\n",
      "\n",
      "_____________________\n",
      "EPOCH:  23\n"
     ]
    },
    {
     "name": "stderr",
     "output_type": "stream",
     "text": [
      "100%|███████████████████████████████████████████| 15/15 [00:01<00:00, 14.26it/s]\n"
     ]
    },
    {
     "name": "stdout",
     "output_type": "stream",
     "text": [
      "train_loss =  1.238902227083842\n",
      "Train: accuracy = 0.4865906762295082, F1 = 0.47819859656384317\n",
      "val_loss =  1.2230526208877563\n",
      "Test: accuracy = 0.5257731958762887, F1 = 0.5203830219557716\n",
      "\n",
      "\n",
      "_____________________\n",
      "EPOCH:  24\n"
     ]
    },
    {
     "name": "stderr",
     "output_type": "stream",
     "text": [
      "100%|███████████████████████████████████████████| 15/15 [00:01<00:00, 14.26it/s]\n"
     ]
    },
    {
     "name": "stdout",
     "output_type": "stream",
     "text": [
      "train_loss =  1.2350776672363282\n",
      "Train: accuracy = 0.48768072632058285, F1 = 0.47873752763056826\n",
      "val_loss =  1.227294683456421\n",
      "Test: accuracy = 0.4896907216494845, F1 = 0.48753638583748904\n",
      "\n",
      "\n",
      "_____________________\n",
      "EPOCH:  25\n"
     ]
    },
    {
     "name": "stderr",
     "output_type": "stream",
     "text": [
      "100%|███████████████████████████████████████████| 15/15 [00:01<00:00, 14.45it/s]\n"
     ]
    },
    {
     "name": "stdout",
     "output_type": "stream",
     "text": [
      "train_loss =  1.229068915049235\n",
      "Train: accuracy = 0.49513177367941713, F1 = 0.48865170380709044\n",
      "val_loss =  1.2134745121002197\n",
      "Test: accuracy = 0.5257731958762887, F1 = 0.5261156870938157\n",
      "\n",
      "\n",
      "_____________________\n",
      "EPOCH:  26\n"
     ]
    },
    {
     "name": "stderr",
     "output_type": "stream",
     "text": [
      "100%|███████████████████████████████████████████| 15/15 [00:01<00:00, 14.29it/s]\n"
     ]
    },
    {
     "name": "stdout",
     "output_type": "stream",
     "text": [
      "train_loss =  1.227011760075887\n",
      "Train: accuracy = 0.4971596083788707, F1 = 0.4888228089851175\n",
      "val_loss =  1.2159922122955322\n",
      "Test: accuracy = 0.4793814432989691, F1 = 0.4760716671282778\n",
      "\n",
      "\n",
      "_____________________\n",
      "EPOCH:  27\n"
     ]
    },
    {
     "name": "stderr",
     "output_type": "stream",
     "text": [
      "100%|███████████████████████████████████████████| 15/15 [00:01<00:00, 14.32it/s]\n"
     ]
    },
    {
     "name": "stdout",
     "output_type": "stream",
     "text": [
      "train_loss =  1.2253677209218343\n",
      "Train: accuracy = 0.500286031420765, F1 = 0.49367654716500553\n",
      "val_loss =  1.2156537771224976\n",
      "Test: accuracy = 0.5051546391752577, F1 = 0.5054087457807808\n",
      "\n",
      "\n",
      "_____________________\n",
      "EPOCH:  28\n"
     ]
    },
    {
     "name": "stderr",
     "output_type": "stream",
     "text": [
      "100%|███████████████████████████████████████████| 15/15 [00:01<00:00, 14.33it/s]\n"
     ]
    },
    {
     "name": "stdout",
     "output_type": "stream",
     "text": [
      "train_loss =  1.2306196769078572\n",
      "Train: accuracy = 0.4928378301457195, F1 = 0.4785145617039755\n",
      "val_loss =  1.2209938764572144\n",
      "Test: accuracy = 0.5, F1 = 0.5000445910252852\n",
      "\n",
      "\n",
      "_____________________\n",
      "EPOCH:  29\n"
     ]
    },
    {
     "name": "stderr",
     "output_type": "stream",
     "text": [
      "100%|███████████████████████████████████████████| 15/15 [00:01<00:00, 14.37it/s]\n"
     ]
    },
    {
     "name": "stdout",
     "output_type": "stream",
     "text": [
      "train_loss =  1.226509928703308\n",
      "Train: accuracy = 0.4961222108378871, F1 = 0.48808242053620343\n",
      "val_loss =  1.2218941450119019\n",
      "Test: accuracy = 0.4845360824742268, F1 = 0.4867157011508677\n",
      "\n",
      "\n",
      "_____________________\n",
      "EPOCH:  30\n"
     ]
    },
    {
     "name": "stderr",
     "output_type": "stream",
     "text": [
      "100%|███████████████████████████████████████████| 15/15 [00:01<00:00, 14.35it/s]\n"
     ]
    },
    {
     "name": "stdout",
     "output_type": "stream",
     "text": [
      "train_loss =  1.219029418627421\n",
      "Train: accuracy = 0.5060123520036429, F1 = 0.497918579463955\n",
      "val_loss =  1.2105573415756226\n",
      "Test: accuracy = 0.520618556701031, F1 = 0.5221967606937269\n",
      "\n",
      "\n",
      "_____________________\n",
      "EPOCH:  31\n"
     ]
    },
    {
     "name": "stderr",
     "output_type": "stream",
     "text": [
      "100%|███████████████████████████████████████████| 15/15 [00:01<00:00, 14.34it/s]\n"
     ]
    },
    {
     "name": "stdout",
     "output_type": "stream",
     "text": [
      "train_loss =  1.2240424553553264\n",
      "Train: accuracy = 0.5007599043715847, F1 = 0.4943025080861394\n",
      "val_loss =  1.197027325630188\n",
      "Test: accuracy = 0.5309278350515464, F1 = 0.5266406558057075\n",
      "\n",
      "\n",
      "_____________________\n",
      "EPOCH:  32\n"
     ]
    },
    {
     "name": "stderr",
     "output_type": "stream",
     "text": [
      "100%|███████████████████████████████████████████| 15/15 [00:01<00:00, 14.29it/s]\n"
     ]
    },
    {
     "name": "stdout",
     "output_type": "stream",
     "text": [
      "train_loss =  1.2176104307174682\n",
      "Train: accuracy = 0.5098161429872495, F1 = 0.5070017732116904\n",
      "val_loss =  1.1942520141601562\n",
      "Test: accuracy = 0.5463917525773195, F1 = 0.5430883236010425\n",
      "\n",
      "\n",
      "_____________________\n",
      "EPOCH:  33\n"
     ]
    },
    {
     "name": "stderr",
     "output_type": "stream",
     "text": [
      "100%|███████████████████████████████████████████| 15/15 [00:01<00:00, 14.16it/s]\n"
     ]
    },
    {
     "name": "stdout",
     "output_type": "stream",
     "text": [
      "train_loss =  1.2168750603993734\n",
      "Train: accuracy = 0.5049749544626594, F1 = 0.49947166331411014\n",
      "val_loss =  1.2069212198257446\n",
      "Test: accuracy = 0.520618556701031, F1 = 0.5208301957073765\n",
      "\n",
      "\n",
      "_____________________\n",
      "EPOCH:  34\n"
     ]
    },
    {
     "name": "stderr",
     "output_type": "stream",
     "text": [
      "100%|███████████████████████████████████████████| 15/15 [00:01<00:00, 14.21it/s]\n"
     ]
    },
    {
     "name": "stdout",
     "output_type": "stream",
     "text": [
      "train_loss =  1.2162567933400472\n",
      "Train: accuracy = 0.5097649134790528, F1 = 0.5044139293846265\n",
      "val_loss =  1.206465721130371\n",
      "Test: accuracy = 0.5103092783505154, F1 = 0.4999674580860148\n",
      "\n",
      "\n",
      "_____________________\n",
      "EPOCH:  35\n"
     ]
    },
    {
     "name": "stderr",
     "output_type": "stream",
     "text": [
      "100%|███████████████████████████████████████████| 15/15 [00:01<00:00, 14.25it/s]\n"
     ]
    },
    {
     "name": "stdout",
     "output_type": "stream",
     "text": [
      "train_loss =  1.2121308326721192\n",
      "Train: accuracy = 0.5197162454462659, F1 = 0.5146185483631768\n",
      "val_loss =  1.2075482606887817\n",
      "Test: accuracy = 0.5257731958762887, F1 = 0.5289336061949239\n",
      "\n",
      "\n",
      "_____________________\n",
      "EPOCH:  36\n"
     ]
    },
    {
     "name": "stderr",
     "output_type": "stream",
     "text": [
      "100%|███████████████████████████████████████████| 15/15 [00:01<00:00, 14.48it/s]\n"
     ]
    },
    {
     "name": "stdout",
     "output_type": "stream",
     "text": [
      "train_loss =  1.2110314130783082\n",
      "Train: accuracy = 0.5172131147540984, F1 = 0.5118737376469968\n",
      "val_loss =  1.1999117136001587\n",
      "Test: accuracy = 0.5257731958762887, F1 = 0.5257404680085093\n",
      "\n",
      "\n",
      "_____________________\n",
      "EPOCH:  37\n"
     ]
    },
    {
     "name": "stderr",
     "output_type": "stream",
     "text": [
      "100%|███████████████████████████████████████████| 15/15 [00:01<00:00, 14.40it/s]\n"
     ]
    },
    {
     "name": "stdout",
     "output_type": "stream",
     "text": [
      "train_loss =  1.2046462059020997\n",
      "Train: accuracy = 0.5238800660291438, F1 = 0.5235212204683778\n",
      "val_loss =  1.1969091892242432\n",
      "Test: accuracy = 0.5154639175257731, F1 = 0.5124324479694161\n",
      "\n",
      "\n",
      "_____________________\n",
      "EPOCH:  38\n"
     ]
    },
    {
     "name": "stderr",
     "output_type": "stream",
     "text": [
      "100%|███████████████████████████████████████████| 15/15 [00:01<00:00, 14.33it/s]\n"
     ]
    },
    {
     "name": "stdout",
     "output_type": "stream",
     "text": [
      "train_loss =  1.2032872835795085\n",
      "Train: accuracy = 0.5270562955373407, F1 = 0.5236290965295152\n",
      "val_loss =  1.2154005765914917\n",
      "Test: accuracy = 0.5051546391752577, F1 = 0.4974809946190695\n",
      "\n",
      "\n",
      "_____________________\n",
      "EPOCH:  39\n"
     ]
    },
    {
     "name": "stderr",
     "output_type": "stream",
     "text": [
      "100%|███████████████████████████████████████████| 15/15 [00:01<00:00, 14.33it/s]\n"
     ]
    },
    {
     "name": "stdout",
     "output_type": "stream",
     "text": [
      "train_loss =  1.2086722215016683\n",
      "Train: accuracy = 0.517682718579235, F1 = 0.510362600737571\n",
      "val_loss =  1.2117351293563843\n",
      "Test: accuracy = 0.5051546391752577, F1 = 0.4986848327957516\n",
      "\n",
      "\n",
      "_____________________\n",
      "EPOCH:  40\n"
     ]
    },
    {
     "name": "stderr",
     "output_type": "stream",
     "text": [
      "100%|███████████████████████████████████████████| 15/15 [00:01<00:00, 14.36it/s]\n"
     ]
    },
    {
     "name": "stdout",
     "output_type": "stream",
     "text": [
      "train_loss =  1.2029911279678345\n",
      "Train: accuracy = 0.5265326161202186, F1 = 0.5248762381256799\n",
      "val_loss =  1.2118662595748901\n",
      "Test: accuracy = 0.4948453608247423, F1 = 0.4953427627831347\n",
      "\n",
      "\n",
      "_____________________\n",
      "EPOCH:  41\n"
     ]
    },
    {
     "name": "stderr",
     "output_type": "stream",
     "text": [
      "100%|███████████████████████████████████████████| 15/15 [00:01<00:00, 14.25it/s]\n"
     ]
    },
    {
     "name": "stdout",
     "output_type": "stream",
     "text": [
      "train_loss =  1.2049082199732462\n",
      "Train: accuracy = 0.5195042122040073, F1 = 0.5152467738548062\n",
      "val_loss =  1.2113243341445923\n",
      "Test: accuracy = 0.520618556701031, F1 = 0.5207813485499133\n",
      "\n",
      "\n",
      "_____________________\n",
      "EPOCH:  42\n"
     ]
    },
    {
     "name": "stderr",
     "output_type": "stream",
     "text": [
      "100%|███████████████████████████████████████████| 15/15 [00:01<00:00, 14.30it/s]\n"
     ]
    },
    {
     "name": "stdout",
     "output_type": "stream",
     "text": [
      "train_loss =  1.1993513425191245\n",
      "Train: accuracy = 0.5289830942622951, F1 = 0.529098439520835\n",
      "val_loss =  1.1984161138534546\n",
      "Test: accuracy = 0.5051546391752577, F1 = 0.5022539828063292\n",
      "\n",
      "\n",
      "_____________________\n",
      "EPOCH:  43\n"
     ]
    },
    {
     "name": "stderr",
     "output_type": "stream",
     "text": [
      "100%|███████████████████████████████████████████| 15/15 [00:01<00:00, 14.34it/s]\n"
     ]
    },
    {
     "name": "stdout",
     "output_type": "stream",
     "text": [
      "train_loss =  1.1957869052886962\n",
      "Train: accuracy = 0.5317950250455373, F1 = 0.528108233451063\n",
      "val_loss =  1.206831455230713\n",
      "Test: accuracy = 0.5360824742268041, F1 = 0.537596683576065\n",
      "\n",
      "\n",
      "_____________________\n",
      "EPOCH:  44\n"
     ]
    },
    {
     "name": "stderr",
     "output_type": "stream",
     "text": [
      "100%|███████████████████████████████████████████| 15/15 [00:01<00:00, 14.29it/s]\n"
     ]
    },
    {
     "name": "stdout",
     "output_type": "stream",
     "text": [
      "train_loss =  1.1951510190963746\n",
      "Train: accuracy = 0.5323158583788706, F1 = 0.5309147557204843\n",
      "val_loss =  1.2013933658599854\n",
      "Test: accuracy = 0.5360824742268041, F1 = 0.5295940679331846\n",
      "\n",
      "\n",
      "_____________________\n",
      "EPOCH:  45\n"
     ]
    },
    {
     "name": "stderr",
     "output_type": "stream",
     "text": [
      "100%|███████████████████████████████████████████| 15/15 [00:01<00:00, 14.30it/s]\n"
     ]
    },
    {
     "name": "stdout",
     "output_type": "stream",
     "text": [
      "train_loss =  1.1870395183563232\n",
      "Train: accuracy = 0.5431480532786885, F1 = 0.5415149291064911\n",
      "val_loss =  1.2090593576431274\n",
      "Test: accuracy = 0.520618556701031, F1 = 0.5203633943107808\n",
      "\n",
      "\n",
      "_____________________\n",
      "EPOCH:  46\n"
     ]
    },
    {
     "name": "stderr",
     "output_type": "stream",
     "text": [
      "100%|███████████████████████████████████████████| 15/15 [00:01<00:00, 14.32it/s]\n"
     ]
    },
    {
     "name": "stdout",
     "output_type": "stream",
     "text": [
      "train_loss =  1.189742620786031\n",
      "Train: accuracy = 0.5385146288706739, F1 = 0.5382705247250105\n",
      "val_loss =  1.1974091529846191\n",
      "Test: accuracy = 0.5515463917525774, F1 = 0.5458694981437489\n",
      "\n",
      "\n",
      "_____________________\n",
      "EPOCH:  47\n"
     ]
    },
    {
     "name": "stderr",
     "output_type": "stream",
     "text": [
      "100%|███████████████████████████████████████████| 15/15 [00:01<00:00, 14.22it/s]\n"
     ]
    },
    {
     "name": "stdout",
     "output_type": "stream",
     "text": [
      "train_loss =  1.186561894416809\n",
      "Train: accuracy = 0.5457038365209471, F1 = 0.5434959432417081\n",
      "val_loss =  1.1990731954574585\n",
      "Test: accuracy = 0.5154639175257731, F1 = 0.5055602302788893\n",
      "\n",
      "\n",
      "_____________________\n",
      "EPOCH:  48\n"
     ]
    },
    {
     "name": "stderr",
     "output_type": "stream",
     "text": [
      "100%|███████████████████████████████████████████| 15/15 [00:01<00:00, 14.41it/s]\n"
     ]
    },
    {
     "name": "stdout",
     "output_type": "stream",
     "text": [
      "train_loss =  1.1852132161458333\n",
      "Train: accuracy = 0.5424208788706739, F1 = 0.5401632370568764\n",
      "val_loss =  1.2015036344528198\n",
      "Test: accuracy = 0.520618556701031, F1 = 0.5195894547746625\n",
      "\n",
      "\n",
      "_____________________\n",
      "EPOCH:  49\n"
     ]
    },
    {
     "name": "stderr",
     "output_type": "stream",
     "text": [
      "100%|███████████████████████████████████████████| 15/15 [00:01<00:00, 14.31it/s]\n"
     ]
    },
    {
     "name": "stdout",
     "output_type": "stream",
     "text": [
      "train_loss =  1.1818726142247518\n",
      "Train: accuracy = 0.5478882058287796, F1 = 0.5469043231977323\n",
      "val_loss =  1.1924701929092407\n",
      "Test: accuracy = 0.5412371134020618, F1 = 0.5415662178513856\n",
      "\n",
      "\n",
      "_____________________\n",
      "EPOCH:  50\n"
     ]
    },
    {
     "name": "stderr",
     "output_type": "stream",
     "text": [
      "100%|███████████████████████████████████████████| 15/15 [00:01<00:00, 14.22it/s]\n"
     ]
    },
    {
     "name": "stdout",
     "output_type": "stream",
     "text": [
      "train_loss =  1.1786343892415365\n",
      "Train: accuracy = 0.5561190801457195, F1 = 0.5548731536442433\n",
      "val_loss =  1.1925060749053955\n",
      "Test: accuracy = 0.5618556701030928, F1 = 0.5666512474589872\n",
      "\n",
      "\n",
      "_____________________\n",
      "EPOCH:  51\n"
     ]
    },
    {
     "name": "stderr",
     "output_type": "stream",
     "text": [
      "100%|███████████████████████████████████████████| 15/15 [00:01<00:00, 14.40it/s]\n"
     ]
    },
    {
     "name": "stdout",
     "output_type": "stream",
     "text": [
      "train_loss =  1.178833285967509\n",
      "Train: accuracy = 0.552106102003643, F1 = 0.552638933977062\n",
      "val_loss =  1.2045857906341553\n",
      "Test: accuracy = 0.5257731958762887, F1 = 0.5233467837273497\n",
      "\n",
      "\n",
      "_____________________\n",
      "EPOCH:  52\n"
     ]
    },
    {
     "name": "stderr",
     "output_type": "stream",
     "text": [
      "100%|███████████████████████████████████████████| 15/15 [00:01<00:00, 14.45it/s]\n"
     ]
    },
    {
     "name": "stdout",
     "output_type": "stream",
     "text": [
      "train_loss =  1.1812799135843912\n",
      "Train: accuracy = 0.5492400956284152, F1 = 0.547568687217876\n",
      "val_loss =  1.1934783458709717\n",
      "Test: accuracy = 0.5567010309278351, F1 = 0.5548972408342675\n",
      "\n",
      "\n",
      "_____________________\n",
      "EPOCH:  53\n"
     ]
    },
    {
     "name": "stderr",
     "output_type": "stream",
     "text": [
      "100%|███████████████████████████████████████████| 15/15 [00:01<00:00, 14.29it/s]\n"
     ]
    },
    {
     "name": "stdout",
     "output_type": "stream",
     "text": [
      "train_loss =  1.1823698918024699\n",
      "Train: accuracy = 0.5491362135701275, F1 = 0.5433024540284279\n",
      "val_loss =  1.2023992538452148\n",
      "Test: accuracy = 0.5412371134020618, F1 = 0.5273274161040706\n",
      "\n",
      "\n",
      "_____________________\n",
      "EPOCH:  54\n"
     ]
    },
    {
     "name": "stderr",
     "output_type": "stream",
     "text": [
      "100%|███████████████████████████████████████████| 15/15 [00:01<00:00, 14.41it/s]\n"
     ]
    },
    {
     "name": "stdout",
     "output_type": "stream",
     "text": [
      "train_loss =  1.1797877391179403\n",
      "Train: accuracy = 0.5513291211293261, F1 = 0.5482392270162647\n",
      "val_loss =  1.1892902851104736\n",
      "Test: accuracy = 0.5309278350515464, F1 = 0.5174549037050775\n",
      "\n",
      "\n",
      "_____________________\n",
      "EPOCH:  55\n"
     ]
    },
    {
     "name": "stderr",
     "output_type": "stream",
     "text": [
      "100%|███████████████████████████████████████████| 15/15 [00:01<00:00, 14.34it/s]\n"
     ]
    },
    {
     "name": "stdout",
     "output_type": "stream",
     "text": [
      "train_loss =  1.1738918701807657\n",
      "Train: accuracy = 0.555959699453552, F1 = 0.5546639539796845\n",
      "val_loss =  1.2004486322402954\n",
      "Test: accuracy = 0.5360824742268041, F1 = 0.5252313579889355\n",
      "\n",
      "\n",
      "_____________________\n",
      "EPOCH:  56\n"
     ]
    },
    {
     "name": "stderr",
     "output_type": "stream",
     "text": [
      "100%|███████████████████████████████████████████| 15/15 [00:01<00:00, 14.44it/s]\n"
     ]
    },
    {
     "name": "stdout",
     "output_type": "stream",
     "text": [
      "train_loss =  1.1678766091664632\n",
      "Train: accuracy = 0.5657544968123862, F1 = 0.5621400301241948\n",
      "val_loss =  1.1954915523529053\n",
      "Test: accuracy = 0.5309278350515464, F1 = 0.5233690090485555\n",
      "\n",
      "\n",
      "_____________________\n",
      "EPOCH:  57\n"
     ]
    },
    {
     "name": "stderr",
     "output_type": "stream",
     "text": [
      "100%|███████████████████████████████████████████| 15/15 [00:01<00:00, 14.34it/s]\n"
     ]
    },
    {
     "name": "stdout",
     "output_type": "stream",
     "text": [
      "train_loss =  1.176434318224589\n",
      "Train: accuracy = 0.560281477686703, F1 = 0.5594954161727258\n",
      "val_loss =  1.2023561000823975\n",
      "Test: accuracy = 0.5154639175257731, F1 = 0.5050324748589773\n",
      "\n",
      "\n",
      "_____________________\n",
      "EPOCH:  58\n"
     ]
    },
    {
     "name": "stderr",
     "output_type": "stream",
     "text": [
      "100%|███████████████████████████████████████████| 15/15 [00:01<00:00, 14.54it/s]\n"
     ]
    },
    {
     "name": "stdout",
     "output_type": "stream",
     "text": [
      "train_loss =  1.1850234111150106\n",
      "Train: accuracy = 0.5425233378870674, F1 = 0.5388039152059682\n",
      "val_loss =  1.2052128314971924\n",
      "Test: accuracy = 0.5154639175257731, F1 = 0.5184066591528409\n",
      "\n",
      "\n",
      "_____________________\n",
      "EPOCH:  59\n"
     ]
    },
    {
     "name": "stderr",
     "output_type": "stream",
     "text": [
      "100%|███████████████████████████████████████████| 15/15 [00:01<00:00, 14.33it/s]\n"
     ]
    },
    {
     "name": "stdout",
     "output_type": "stream",
     "text": [
      "train_loss =  1.1814501523971557\n",
      "Train: accuracy = 0.5542918943533697, F1 = 0.5488666453799016\n",
      "val_loss =  1.1808276176452637\n",
      "Test: accuracy = 0.5618556701030928, F1 = 0.5563042447019994\n",
      "\n",
      "\n",
      "_____________________\n",
      "EPOCH:  60\n"
     ]
    },
    {
     "name": "stderr",
     "output_type": "stream",
     "text": [
      "100%|███████████████████████████████████████████| 15/15 [00:01<00:00, 14.35it/s]\n"
     ]
    },
    {
     "name": "stdout",
     "output_type": "stream",
     "text": [
      "train_loss =  1.1783111413319907\n",
      "Train: accuracy = 0.554192281420765, F1 = 0.5490784567027113\n",
      "val_loss =  1.2002507448196411\n",
      "Test: accuracy = 0.5154639175257731, F1 = 0.5098960898444291\n",
      "\n",
      "\n",
      "_____________________\n",
      "EPOCH:  61\n"
     ]
    },
    {
     "name": "stderr",
     "output_type": "stream",
     "text": [
      "100%|███████████████████████████████████████████| 15/15 [00:01<00:00, 14.37it/s]\n"
     ]
    },
    {
     "name": "stdout",
     "output_type": "stream",
     "text": [
      "train_loss =  1.1702486276626587\n",
      "Train: accuracy = 0.5564833788706739, F1 = 0.5529463884889623\n",
      "val_loss =  1.1930344104766846\n",
      "Test: accuracy = 0.5154639175257731, F1 = 0.5184039834919434\n",
      "\n",
      "\n",
      "_____________________\n",
      "EPOCH:  62\n"
     ]
    },
    {
     "name": "stderr",
     "output_type": "stream",
     "text": [
      "100%|███████████████████████████████████████████| 15/15 [00:01<00:00, 14.42it/s]\n"
     ]
    },
    {
     "name": "stdout",
     "output_type": "stream",
     "text": [
      "train_loss =  1.1630202531814575\n",
      "Train: accuracy = 0.572257798269581, F1 = 0.5716698293014083\n",
      "val_loss =  1.183883547782898\n",
      "Test: accuracy = 0.5463917525773195, F1 = 0.5432030233053665\n",
      "\n",
      "\n",
      "_____________________\n",
      "EPOCH:  63\n"
     ]
    },
    {
     "name": "stderr",
     "output_type": "stream",
     "text": [
      "100%|███████████████████████████████████████████| 15/15 [00:01<00:00, 14.34it/s]\n"
     ]
    },
    {
     "name": "stdout",
     "output_type": "stream",
     "text": [
      "train_loss =  1.1702366511027018\n",
      "Train: accuracy = 0.5651269353369763, F1 = 0.5639016478772272\n",
      "val_loss =  1.1891108751296997\n",
      "Test: accuracy = 0.5567010309278351, F1 = 0.5577182063653139\n",
      "\n",
      "\n",
      "_____________________\n",
      "EPOCH:  64\n"
     ]
    },
    {
     "name": "stderr",
     "output_type": "stream",
     "text": [
      "100%|███████████████████████████████████████████| 15/15 [00:01<00:00, 14.28it/s]\n"
     ]
    },
    {
     "name": "stdout",
     "output_type": "stream",
     "text": [
      "train_loss =  1.1659911394119262\n",
      "Train: accuracy = 0.5619464367030965, F1 = 0.5597080413197691\n",
      "val_loss =  1.1852586269378662\n",
      "Test: accuracy = 0.5463917525773195, F1 = 0.5449753665997065\n",
      "\n",
      "\n",
      "_____________________\n",
      "EPOCH:  65\n"
     ]
    },
    {
     "name": "stderr",
     "output_type": "stream",
     "text": [
      "100%|███████████████████████████████████████████| 15/15 [00:01<00:00, 14.40it/s]\n"
     ]
    },
    {
     "name": "stdout",
     "output_type": "stream",
     "text": [
      "train_loss =  1.1618906259536743\n",
      "Train: accuracy = 0.5708034494535519, F1 = 0.5704350776408468\n",
      "val_loss =  1.1835224628448486\n",
      "Test: accuracy = 0.5618556701030928, F1 = 0.5595754476222261\n",
      "\n",
      "\n",
      "_____________________\n",
      "EPOCH:  66\n"
     ]
    },
    {
     "name": "stderr",
     "output_type": "stream",
     "text": [
      "100%|███████████████████████████████████████████| 15/15 [00:01<00:00, 14.36it/s]\n"
     ]
    },
    {
     "name": "stdout",
     "output_type": "stream",
     "text": [
      "train_loss =  1.160995594660441\n",
      "Train: accuracy = 0.5729380122950819, F1 = 0.5709229653012611\n",
      "val_loss =  1.1853609085083008\n",
      "Test: accuracy = 0.5463917525773195, F1 = 0.541919744399616\n",
      "\n",
      "\n",
      "_____________________\n",
      "EPOCH:  67\n"
     ]
    },
    {
     "name": "stderr",
     "output_type": "stream",
     "text": [
      "100%|███████████████████████████████████████████| 15/15 [00:01<00:00, 14.29it/s]\n"
     ]
    },
    {
     "name": "stdout",
     "output_type": "stream",
     "text": [
      "train_loss =  1.160621953010559\n",
      "Train: accuracy = 0.5724741006375228, F1 = 0.5709730476662828\n",
      "val_loss =  1.1894094944000244\n",
      "Test: accuracy = 0.5360824742268041, F1 = 0.5354925504952635\n",
      "\n",
      "\n",
      "_____________________\n",
      "EPOCH:  68\n"
     ]
    },
    {
     "name": "stderr",
     "output_type": "stream",
     "text": [
      "100%|███████████████████████████████████████████| 15/15 [00:01<00:00, 14.26it/s]\n"
     ]
    },
    {
     "name": "stdout",
     "output_type": "stream",
     "text": [
      "train_loss =  1.1640674829483033\n",
      "Train: accuracy = 0.5715320469034608, F1 = 0.5710880625692079\n",
      "val_loss =  1.1737022399902344\n",
      "Test: accuracy = 0.5670103092783505, F1 = 0.563112137170858\n",
      "\n",
      "\n",
      "_____________________\n",
      "EPOCH:  69\n"
     ]
    },
    {
     "name": "stderr",
     "output_type": "stream",
     "text": [
      "100%|███████████████████████████████████████████| 15/15 [00:01<00:00, 14.33it/s]\n"
     ]
    },
    {
     "name": "stdout",
     "output_type": "stream",
     "text": [
      "train_loss =  1.1614303270975748\n",
      "Train: accuracy = 0.5691897199453552, F1 = 0.5690565801412417\n",
      "val_loss =  1.1819732189178467\n",
      "Test: accuracy = 0.5463917525773195, F1 = 0.5376497837886913\n",
      "\n",
      "\n",
      "_____________________\n",
      "EPOCH:  70\n"
     ]
    },
    {
     "name": "stderr",
     "output_type": "stream",
     "text": [
      "100%|███████████████████████████████████████████| 15/15 [00:01<00:00, 14.43it/s]\n"
     ]
    },
    {
     "name": "stdout",
     "output_type": "stream",
     "text": [
      "train_loss =  1.1598477125167848\n",
      "Train: accuracy = 0.5712716302367942, F1 = 0.5700592844403278\n",
      "val_loss =  1.1797391176223755\n",
      "Test: accuracy = 0.5463917525773195, F1 = 0.5473144920862152\n",
      "\n",
      "\n",
      "_____________________\n",
      "EPOCH:  71\n"
     ]
    },
    {
     "name": "stderr",
     "output_type": "stream",
     "text": [
      "100%|███████████████████████████████████████████| 15/15 [00:01<00:00, 14.41it/s]\n"
     ]
    },
    {
     "name": "stdout",
     "output_type": "stream",
     "text": [
      "train_loss =  1.1547104597091675\n",
      "Train: accuracy = 0.5771018328779599, F1 = 0.5773797230889506\n",
      "val_loss =  1.1646069288253784\n",
      "Test: accuracy = 0.5463917525773195, F1 = 0.5428554750260951\n",
      "\n",
      "\n",
      "_____________________\n",
      "EPOCH:  72\n"
     ]
    },
    {
     "name": "stderr",
     "output_type": "stream",
     "text": [
      "100%|███████████████████████████████████████████| 15/15 [00:01<00:00, 14.31it/s]\n"
     ]
    },
    {
     "name": "stdout",
     "output_type": "stream",
     "text": [
      "train_loss =  1.1535585403442383\n",
      "Train: accuracy = 0.5793957764116576, F1 = 0.5786504579708505\n",
      "val_loss =  1.167488932609558\n",
      "Test: accuracy = 0.5618556701030928, F1 = 0.5571702297097427\n",
      "\n",
      "\n",
      "_____________________\n",
      "EPOCH:  73\n"
     ]
    },
    {
     "name": "stderr",
     "output_type": "stream",
     "text": [
      "100%|███████████████████████████████████████████| 15/15 [00:01<00:00, 14.32it/s]\n"
     ]
    },
    {
     "name": "stdout",
     "output_type": "stream",
     "text": [
      "train_loss =  1.160740327835083\n",
      "Train: accuracy = 0.5726761725865209, F1 = 0.5726489656618197\n",
      "val_loss =  1.1797206401824951\n",
      "Test: accuracy = 0.5670103092783505, F1 = 0.5674566258595547\n",
      "\n",
      "\n",
      "_____________________\n",
      "EPOCH:  74\n"
     ]
    },
    {
     "name": "stderr",
     "output_type": "stream",
     "text": [
      "100%|███████████████████████████████████████████| 15/15 [00:01<00:00, 14.45it/s]\n"
     ]
    },
    {
     "name": "stdout",
     "output_type": "stream",
     "text": [
      "train_loss =  1.1575830141703287\n",
      "Train: accuracy = 0.5815872609289617, F1 = 0.581525042945212\n",
      "val_loss =  1.1695643663406372\n",
      "Test: accuracy = 0.5567010309278351, F1 = 0.5595061389740915\n",
      "\n",
      "\n",
      "_____________________\n",
      "EPOCH:  75\n"
     ]
    },
    {
     "name": "stderr",
     "output_type": "stream",
     "text": [
      "100%|███████████████████████████████████████████| 15/15 [00:01<00:00, 14.32it/s]\n"
     ]
    },
    {
     "name": "stdout",
     "output_type": "stream",
     "text": [
      "train_loss =  1.1546406507492066\n",
      "Train: accuracy = 0.5790827071948998, F1 = 0.5777648610019093\n",
      "val_loss =  1.1798092126846313\n",
      "Test: accuracy = 0.5721649484536082, F1 = 0.5733556149712399\n",
      "\n",
      "\n",
      "_____________________\n",
      "EPOCH:  76\n"
     ]
    },
    {
     "name": "stderr",
     "output_type": "stream",
     "text": [
      "100%|███████████████████████████████████████████| 15/15 [00:01<00:00, 14.25it/s]\n"
     ]
    },
    {
     "name": "stdout",
     "output_type": "stream",
     "text": [
      "train_loss =  1.1571977615356446\n",
      "Train: accuracy = 0.5795523110200363, F1 = 0.5807308854600379\n",
      "val_loss =  1.1796081066131592\n",
      "Test: accuracy = 0.5515463917525774, F1 = 0.539234015196229\n",
      "\n",
      "\n",
      "_____________________\n",
      "EPOCH:  77\n"
     ]
    },
    {
     "name": "stderr",
     "output_type": "stream",
     "text": [
      "100%|███████████████████████████████████████████| 15/15 [00:01<00:00, 14.51it/s]\n"
     ]
    },
    {
     "name": "stdout",
     "output_type": "stream",
     "text": [
      "train_loss =  1.1587393760681153\n",
      "Train: accuracy = 0.5767944558287795, F1 = 0.5768911666573789\n",
      "val_loss =  1.1760036945343018\n",
      "Test: accuracy = 0.5309278350515464, F1 = 0.5351554242044004\n",
      "\n",
      "\n",
      "_____________________\n",
      "EPOCH:  78\n"
     ]
    },
    {
     "name": "stderr",
     "output_type": "stream",
     "text": [
      "100%|███████████████████████████████████████████| 15/15 [00:01<00:00, 14.41it/s]\n"
     ]
    },
    {
     "name": "stdout",
     "output_type": "stream",
     "text": [
      "train_loss =  1.1549458821614584\n",
      "Train: accuracy = 0.5750227686703097, F1 = 0.5723131800819026\n",
      "val_loss =  1.1884467601776123\n",
      "Test: accuracy = 0.5309278350515464, F1 = 0.5217920432616093\n",
      "\n",
      "\n",
      "_____________________\n",
      "EPOCH:  79\n"
     ]
    },
    {
     "name": "stderr",
     "output_type": "stream",
     "text": [
      "100%|███████████████████████████████████████████| 15/15 [00:01<00:00, 14.29it/s]\n"
     ]
    },
    {
     "name": "stdout",
     "output_type": "stream",
     "text": [
      "train_loss =  1.153437582651774\n",
      "Train: accuracy = 0.5820540186703096, F1 = 0.5814861238377327\n",
      "val_loss =  1.1873606443405151\n",
      "Test: accuracy = 0.5412371134020618, F1 = 0.5408530912353731\n",
      "\n",
      "\n",
      "_____________________\n",
      "EPOCH:  80\n"
     ]
    },
    {
     "name": "stderr",
     "output_type": "stream",
     "text": [
      "100%|███████████████████████████████████████████| 15/15 [00:01<00:00, 14.41it/s]\n"
     ]
    },
    {
     "name": "stdout",
     "output_type": "stream",
     "text": [
      "train_loss =  1.150926367441813\n",
      "Train: accuracy = 0.5811674635701275, F1 = 0.576588606950147\n",
      "val_loss =  1.1758382320404053\n",
      "Test: accuracy = 0.5360824742268041, F1 = 0.5387097453740499\n",
      "\n",
      "\n",
      "_____________________\n",
      "EPOCH:  81\n"
     ]
    },
    {
     "name": "stderr",
     "output_type": "stream",
     "text": [
      "100%|███████████████████████████████████████████| 15/15 [00:01<00:00, 14.39it/s]\n"
     ]
    },
    {
     "name": "stdout",
     "output_type": "stream",
     "text": [
      "train_loss =  1.1466031471888225\n",
      "Train: accuracy = 0.5880934084699453, F1 = 0.5876136277854656\n",
      "val_loss =  1.1804345846176147\n",
      "Test: accuracy = 0.5360824742268041, F1 = 0.5345941603110455\n",
      "\n",
      "\n",
      "_____________________\n",
      "EPOCH:  82\n"
     ]
    },
    {
     "name": "stderr",
     "output_type": "stream",
     "text": [
      "100%|███████████████████████████████████████████| 15/15 [00:01<00:00, 14.45it/s]\n"
     ]
    },
    {
     "name": "stdout",
     "output_type": "stream",
     "text": [
      "train_loss =  1.1560765345891317\n",
      "Train: accuracy = 0.5760132058287796, F1 = 0.5720591674008096\n",
      "val_loss =  1.19209623336792\n",
      "Test: accuracy = 0.5257731958762887, F1 = 0.5263607446394535\n",
      "\n",
      "\n",
      "_____________________\n",
      "EPOCH:  83\n"
     ]
    },
    {
     "name": "stderr",
     "output_type": "stream",
     "text": [
      "100%|███████████████████████████████████████████| 15/15 [00:01<00:00, 14.26it/s]\n"
     ]
    },
    {
     "name": "stdout",
     "output_type": "stream",
     "text": [
      "train_loss =  1.1544266223907471\n",
      "Train: accuracy = 0.5790855532786885, F1 = 0.57681397456644\n",
      "val_loss =  1.1947940587997437\n",
      "Test: accuracy = 0.5463917525773195, F1 = 0.5459970569434256\n",
      "\n",
      "\n",
      "_____________________\n",
      "EPOCH:  84\n"
     ]
    },
    {
     "name": "stderr",
     "output_type": "stream",
     "text": [
      "100%|███████████████████████████████████████████| 15/15 [00:01<00:00, 14.31it/s]\n"
     ]
    },
    {
     "name": "stdout",
     "output_type": "stream",
     "text": [
      "train_loss =  1.1514318625132243\n",
      "Train: accuracy = 0.5849712545537341, F1 = 0.5826634810189975\n",
      "val_loss =  1.1900626420974731\n",
      "Test: accuracy = 0.5154639175257731, F1 = 0.5149324706936079\n",
      "\n",
      "\n",
      "_____________________\n",
      "EPOCH:  85\n"
     ]
    },
    {
     "name": "stderr",
     "output_type": "stream",
     "text": [
      "100%|███████████████████████████████████████████| 15/15 [00:01<00:00, 14.37it/s]\n"
     ]
    },
    {
     "name": "stdout",
     "output_type": "stream",
     "text": [
      "train_loss =  1.1518992106119792\n",
      "Train: accuracy = 0.585281477686703, F1 = 0.5829899539409008\n",
      "val_loss =  1.1793537139892578\n",
      "Test: accuracy = 0.5463917525773195, F1 = 0.5480068278138835\n",
      "\n",
      "\n",
      "_____________________\n",
      "EPOCH:  86\n"
     ]
    },
    {
     "name": "stderr",
     "output_type": "stream",
     "text": [
      "100%|███████████████████████████████████████████| 15/15 [00:01<00:00, 14.34it/s]\n"
     ]
    },
    {
     "name": "stdout",
     "output_type": "stream",
     "text": [
      "train_loss =  1.1606502453486125\n",
      "Train: accuracy = 0.5722634904371585, F1 = 0.5713204736571265\n",
      "val_loss =  1.175466537475586\n",
      "Test: accuracy = 0.5309278350515464, F1 = 0.5249468244969652\n",
      "\n",
      "\n",
      "_____________________\n",
      "EPOCH:  87\n"
     ]
    },
    {
     "name": "stderr",
     "output_type": "stream",
     "text": [
      "100%|███████████████████████████████████████████| 15/15 [00:01<00:00, 14.29it/s]\n"
     ]
    },
    {
     "name": "stdout",
     "output_type": "stream",
     "text": [
      "train_loss =  1.1481597820917766\n",
      "Train: accuracy = 0.5859090391621129, F1 = 0.5854691458922984\n",
      "val_loss =  1.183104395866394\n",
      "Test: accuracy = 0.520618556701031, F1 = 0.5230156900439931\n",
      "\n",
      "\n",
      "_____________________\n",
      "EPOCH:  88\n"
     ]
    },
    {
     "name": "stderr",
     "output_type": "stream",
     "text": [
      "100%|███████████████████████████████████████████| 15/15 [00:01<00:00, 14.33it/s]\n"
     ]
    },
    {
     "name": "stdout",
     "output_type": "stream",
     "text": [
      "train_loss =  1.1466241121292113\n",
      "Train: accuracy = 0.590121243169399, F1 = 0.5884330203412381\n",
      "val_loss =  1.1655843257904053\n",
      "Test: accuracy = 0.5567010309278351, F1 = 0.5547675252114893\n",
      "\n",
      "\n",
      "_____________________\n",
      "EPOCH:  89\n"
     ]
    },
    {
     "name": "stderr",
     "output_type": "stream",
     "text": [
      "100%|███████████████████████████████████████████| 15/15 [00:01<00:00, 14.31it/s]\n"
     ]
    },
    {
     "name": "stdout",
     "output_type": "stream",
     "text": [
      "train_loss =  1.1406150341033936\n",
      "Train: accuracy = 0.5956440687613843, F1 = 0.5962267580462005\n",
      "val_loss =  1.1650466918945312\n",
      "Test: accuracy = 0.5463917525773195, F1 = 0.5440401113276975\n",
      "\n",
      "\n",
      "_____________________\n",
      "EPOCH:  90\n"
     ]
    },
    {
     "name": "stderr",
     "output_type": "stream",
     "text": [
      "100%|███████████████████████████████████████████| 15/15 [00:01<00:00, 14.36it/s]\n"
     ]
    },
    {
     "name": "stdout",
     "output_type": "stream",
     "text": [
      "train_loss =  1.1445733070373536\n",
      "Train: accuracy = 0.5943462545537341, F1 = 0.5937882689626635\n",
      "val_loss =  1.17412269115448\n",
      "Test: accuracy = 0.5515463917525774, F1 = 0.54537027695538\n",
      "\n",
      "\n",
      "_____________________\n",
      "EPOCH:  91\n"
     ]
    },
    {
     "name": "stderr",
     "output_type": "stream",
     "text": [
      "100%|███████████████████████████████████████████| 15/15 [00:01<00:00, 14.31it/s]\n"
     ]
    },
    {
     "name": "stdout",
     "output_type": "stream",
     "text": [
      "train_loss =  1.1424924294153849\n",
      "Train: accuracy = 0.5929915186703096, F1 = 0.5912353891144048\n",
      "val_loss =  1.1703968048095703\n",
      "Test: accuracy = 0.5773195876288659, F1 = 0.5741160529406555\n",
      "\n",
      "\n",
      "_____________________\n",
      "EPOCH:  92\n"
     ]
    },
    {
     "name": "stderr",
     "output_type": "stream",
     "text": [
      "100%|███████████████████████████████████████████| 15/15 [00:01<00:00, 14.28it/s]\n"
     ]
    },
    {
     "name": "stdout",
     "output_type": "stream",
     "text": [
      "train_loss =  1.1507159392038981\n",
      "Train: accuracy = 0.5873135815118397, F1 = 0.5862770941160519\n",
      "val_loss =  1.1580400466918945\n",
      "Test: accuracy = 0.5721649484536082, F1 = 0.56544105971612\n",
      "\n",
      "\n",
      "_____________________\n",
      "EPOCH:  93\n"
     ]
    },
    {
     "name": "stderr",
     "output_type": "stream",
     "text": [
      "100%|███████████████████████████████████████████| 15/15 [00:01<00:00, 14.26it/s]\n"
     ]
    },
    {
     "name": "stdout",
     "output_type": "stream",
     "text": [
      "train_loss =  1.1413799206415811\n",
      "Train: accuracy = 0.594603825136612, F1 = 0.5931627013921853\n",
      "val_loss =  1.1568273305892944\n",
      "Test: accuracy = 0.5721649484536082, F1 = 0.5643546967311632\n",
      "\n",
      "\n",
      "_____________________\n",
      "EPOCH:  94\n"
     ]
    },
    {
     "name": "stderr",
     "output_type": "stream",
     "text": [
      "100%|███████████████████████████████████████████| 15/15 [00:01<00:00, 14.47it/s]\n"
     ]
    },
    {
     "name": "stdout",
     "output_type": "stream",
     "text": [
      "train_loss =  1.1430216630299885\n",
      "Train: accuracy = 0.5939805327868852, F1 = 0.5951228042089671\n",
      "val_loss =  1.1711660623550415\n",
      "Test: accuracy = 0.5721649484536082, F1 = 0.5679814085531476\n",
      "\n",
      "\n",
      "_____________________\n",
      "EPOCH:  95\n"
     ]
    },
    {
     "name": "stderr",
     "output_type": "stream",
     "text": [
      "100%|███████████████████████████████████████████| 15/15 [00:01<00:00, 14.38it/s]\n"
     ]
    },
    {
     "name": "stdout",
     "output_type": "stream",
     "text": [
      "train_loss =  1.1445881128311157\n",
      "Train: accuracy = 0.5935635815118396, F1 = 0.5941149195477505\n",
      "val_loss =  1.1659619808197021\n",
      "Test: accuracy = 0.5670103092783505, F1 = 0.5540713721044958\n",
      "\n",
      "\n",
      "_____________________\n",
      "EPOCH:  96\n"
     ]
    },
    {
     "name": "stderr",
     "output_type": "stream",
     "text": [
      "100%|███████████████████████████████████████████| 15/15 [00:01<00:00, 14.29it/s]\n"
     ]
    },
    {
     "name": "stdout",
     "output_type": "stream",
     "text": [
      "train_loss =  1.1394206364949544\n",
      "Train: accuracy = 0.5965348929872495, F1 = 0.5963778494323088\n",
      "val_loss =  1.1607040166854858\n",
      "Test: accuracy = 0.5773195876288659, F1 = 0.5698654860096033\n",
      "\n",
      "\n",
      "_____________________\n",
      "EPOCH:  97\n"
     ]
    },
    {
     "name": "stderr",
     "output_type": "stream",
     "text": [
      "100%|███████████████████████████████████████████| 15/15 [00:01<00:00, 14.30it/s]\n"
     ]
    },
    {
     "name": "stdout",
     "output_type": "stream",
     "text": [
      "train_loss =  1.1444167375564576\n",
      "Train: accuracy = 0.5864782559198543, F1 = 0.5849836890351964\n",
      "val_loss =  1.1662613153457642\n",
      "Test: accuracy = 0.5618556701030928, F1 = 0.5535869603766211\n",
      "\n",
      "\n",
      "_____________________\n",
      "EPOCH:  98\n"
     ]
    },
    {
     "name": "stderr",
     "output_type": "stream",
     "text": [
      "100%|███████████████████████████████████████████| 15/15 [00:01<00:00, 14.39it/s]\n"
     ]
    },
    {
     "name": "stdout",
     "output_type": "stream",
     "text": [
      "train_loss =  1.1541380008061728\n",
      "Train: accuracy = 0.576115664845173, F1 = 0.5739227166813705\n",
      "val_loss =  1.1716978549957275\n",
      "Test: accuracy = 0.5721649484536082, F1 = 0.5665986540664375\n",
      "\n",
      "\n",
      "_____________________\n",
      "EPOCH:  99\n"
     ]
    },
    {
     "name": "stderr",
     "output_type": "stream",
     "text": [
      "100%|███████████████████████████████████████████| 15/15 [00:01<00:00, 14.25it/s]\n"
     ]
    },
    {
     "name": "stdout",
     "output_type": "stream",
     "text": [
      "train_loss =  1.15168186823527\n",
      "Train: accuracy = 0.5834059084699453, F1 = 0.5820595250308459\n",
      "val_loss =  1.1623847484588623\n",
      "Test: accuracy = 0.5773195876288659, F1 = 0.5736206475574118\n",
      "\n",
      "\n",
      "_____________________\n",
      "EPOCH:  100\n"
     ]
    },
    {
     "name": "stderr",
     "output_type": "stream",
     "text": [
      "100%|███████████████████████████████████████████| 15/15 [00:01<00:00, 14.36it/s]\n"
     ]
    },
    {
     "name": "stdout",
     "output_type": "stream",
     "text": [
      "train_loss =  1.1382149775822958\n",
      "Train: accuracy = 0.5972079918032787, F1 = 0.5973422063217311\n",
      "val_loss =  1.1619477272033691\n",
      "Test: accuracy = 0.5567010309278351, F1 = 0.5546865307034647\n",
      "\n",
      "\n",
      "_____________________\n",
      "EPOCH:  101\n"
     ]
    },
    {
     "name": "stderr",
     "output_type": "stream",
     "text": [
      "100%|███████████████████████████████████████████| 15/15 [00:01<00:00, 14.42it/s]\n"
     ]
    },
    {
     "name": "stdout",
     "output_type": "stream",
     "text": [
      "train_loss =  1.1370997428894043\n",
      "Train: accuracy = 0.604449852003643, F1 = 0.6047752817590972\n",
      "val_loss =  1.1699516773223877\n",
      "Test: accuracy = 0.5567010309278351, F1 = 0.553661023412092\n",
      "\n",
      "\n",
      "_____________________\n",
      "EPOCH:  102\n"
     ]
    },
    {
     "name": "stderr",
     "output_type": "stream",
     "text": [
      "100%|███████████████████████████████████████████| 15/15 [00:01<00:00, 14.39it/s]\n"
     ]
    },
    {
     "name": "stdout",
     "output_type": "stream",
     "text": [
      "train_loss =  1.1324870189030964\n",
      "Train: accuracy = 0.6052325250455373, F1 = 0.6061252579864387\n",
      "val_loss =  1.1550341844558716\n",
      "Test: accuracy = 0.5824742268041238, F1 = 0.5812430527077618\n",
      "\n",
      "\n",
      "_____________________\n",
      "EPOCH:  103\n"
     ]
    },
    {
     "name": "stderr",
     "output_type": "stream",
     "text": [
      "100%|███████████████████████████████████████████| 15/15 [00:01<00:00, 14.41it/s]\n"
     ]
    },
    {
     "name": "stdout",
     "output_type": "stream",
     "text": [
      "train_loss =  1.138498640060425\n",
      "Train: accuracy = 0.5940829918032786, F1 = 0.5934555297694051\n",
      "val_loss =  1.1602221727371216\n",
      "Test: accuracy = 0.5927835051546392, F1 = 0.5793633568457226\n",
      "\n",
      "\n",
      "_____________________\n",
      "EPOCH:  104\n"
     ]
    },
    {
     "name": "stderr",
     "output_type": "stream",
     "text": [
      "100%|███████████████████████████████████████████| 15/15 [00:01<00:00, 14.33it/s]\n"
     ]
    },
    {
     "name": "stdout",
     "output_type": "stream",
     "text": [
      "train_loss =  1.137097676595052\n",
      "Train: accuracy = 0.5983549635701275, F1 = 0.5970124139687633\n",
      "val_loss =  1.1679823398590088\n",
      "Test: accuracy = 0.5567010309278351, F1 = 0.5455456507499732\n",
      "\n",
      "\n",
      "_____________________\n",
      "EPOCH:  105\n"
     ]
    },
    {
     "name": "stderr",
     "output_type": "stream",
     "text": [
      "100%|███████████████████████████████████████████| 15/15 [00:01<00:00, 14.39it/s]\n"
     ]
    },
    {
     "name": "stdout",
     "output_type": "stream",
     "text": [
      "train_loss =  1.1332136392593384\n",
      "Train: accuracy = 0.6066868738615665, F1 = 0.6073506020636436\n",
      "val_loss =  1.1670299768447876\n",
      "Test: accuracy = 0.5773195876288659, F1 = 0.5671648163752492\n",
      "\n",
      "\n",
      "_____________________\n",
      "EPOCH:  106\n"
     ]
    },
    {
     "name": "stderr",
     "output_type": "stream",
     "text": [
      "100%|███████████████████████████████████████████| 15/15 [00:01<00:00, 14.36it/s]\n"
     ]
    },
    {
     "name": "stdout",
     "output_type": "stream",
     "text": [
      "train_loss =  1.1331173658370972\n",
      "Train: accuracy = 0.6037682149362477, F1 = 0.6041190737783974\n",
      "val_loss =  1.1677727699279785\n",
      "Test: accuracy = 0.5773195876288659, F1 = 0.5699851901032407\n",
      "\n",
      "\n",
      "_____________________\n",
      "EPOCH:  107\n"
     ]
    },
    {
     "name": "stderr",
     "output_type": "stream",
     "text": [
      "100%|███████████████████████████████████████████| 15/15 [00:01<00:00, 14.32it/s]\n"
     ]
    },
    {
     "name": "stdout",
     "output_type": "stream",
     "text": [
      "train_loss =  1.129795002937317\n",
      "Train: accuracy = 0.6077811930783242, F1 = 0.6073327039002648\n",
      "val_loss =  1.1643462181091309\n",
      "Test: accuracy = 0.5927835051546392, F1 = 0.5914990928276572\n",
      "\n",
      "\n",
      "_____________________\n",
      "EPOCH:  108\n"
     ]
    },
    {
     "name": "stderr",
     "output_type": "stream",
     "text": [
      "100%|███████████████████████████████████████████| 15/15 [00:01<00:00, 14.40it/s]\n"
     ]
    },
    {
     "name": "stdout",
     "output_type": "stream",
     "text": [
      "train_loss =  1.133071001370748\n",
      "Train: accuracy = 0.605021914845173, F1 = 0.6059511849768019\n",
      "val_loss =  1.1596183776855469\n",
      "Test: accuracy = 0.5824742268041238, F1 = 0.5771859450269239\n",
      "\n",
      "\n",
      "_____________________\n",
      "EPOCH:  109\n"
     ]
    },
    {
     "name": "stderr",
     "output_type": "stream",
     "text": [
      "100%|███████████████████████████████████████████| 15/15 [00:01<00:00, 14.33it/s]\n"
     ]
    },
    {
     "name": "stdout",
     "output_type": "stream",
     "text": [
      "train_loss =  1.1245404481887817\n",
      "Train: accuracy = 0.6128842213114754, F1 = 0.6128291249615881\n",
      "val_loss =  1.1630765199661255\n",
      "Test: accuracy = 0.5824742268041238, F1 = 0.5708443119899721\n",
      "\n",
      "\n",
      "_____________________\n",
      "EPOCH:  110\n"
     ]
    },
    {
     "name": "stderr",
     "output_type": "stream",
     "text": [
      "100%|███████████████████████████████████████████| 15/15 [00:01<00:00, 14.33it/s]\n"
     ]
    },
    {
     "name": "stdout",
     "output_type": "stream",
     "text": [
      "train_loss =  1.1301507949829102\n",
      "Train: accuracy = 0.6073599726775957, F1 = 0.6073424469502974\n",
      "val_loss =  1.156545639038086\n",
      "Test: accuracy = 0.5773195876288659, F1 = 0.5721814518913364\n",
      "\n",
      "\n",
      "_____________________\n",
      "EPOCH:  111\n"
     ]
    },
    {
     "name": "stderr",
     "output_type": "stream",
     "text": [
      "100%|███████████████████████████████████████████| 15/15 [00:01<00:00, 14.44it/s]\n"
     ]
    },
    {
     "name": "stdout",
     "output_type": "stream",
     "text": [
      "train_loss =  1.1305578231811524\n",
      "Train: accuracy = 0.6064791097449909, F1 = 0.6040894337684374\n",
      "val_loss =  1.1837154626846313\n",
      "Test: accuracy = 0.5360824742268041, F1 = 0.5384073560765916\n",
      "\n",
      "\n",
      "_____________________\n",
      "EPOCH:  112\n"
     ]
    },
    {
     "name": "stderr",
     "output_type": "stream",
     "text": [
      "100%|███████████████████████████████████████████| 15/15 [00:01<00:00, 14.35it/s]\n"
     ]
    },
    {
     "name": "stdout",
     "output_type": "stream",
     "text": [
      "train_loss =  1.1251314957936605\n",
      "Train: accuracy = 0.61303933287796, F1 = 0.6131942331806347\n",
      "val_loss =  1.150830864906311\n",
      "Test: accuracy = 0.5927835051546392, F1 = 0.5915355504694698\n",
      "\n",
      "\n",
      "_____________________\n",
      "EPOCH:  113\n"
     ]
    },
    {
     "name": "stderr",
     "output_type": "stream",
     "text": [
      "100%|███████████████████████████████████████████| 15/15 [00:01<00:00, 14.37it/s]\n"
     ]
    },
    {
     "name": "stdout",
     "output_type": "stream",
     "text": [
      "train_loss =  1.1346731980641682\n",
      "Train: accuracy = 0.5985114981785064, F1 = 0.5984104774955173\n",
      "val_loss =  1.162851333618164\n",
      "Test: accuracy = 0.5515463917525774, F1 = 0.550176725857989\n",
      "\n",
      "\n",
      "_____________________\n",
      "EPOCH:  114\n"
     ]
    },
    {
     "name": "stderr",
     "output_type": "stream",
     "text": [
      "100%|███████████████████████████████████████████| 15/15 [00:01<00:00, 14.36it/s]\n"
     ]
    },
    {
     "name": "stdout",
     "output_type": "stream",
     "text": [
      "train_loss =  1.1274349133173625\n",
      "Train: accuracy = 0.6091828893442623, F1 = 0.6100365019073094\n",
      "val_loss =  1.1690771579742432\n",
      "Test: accuracy = 0.5773195876288659, F1 = 0.5699662201282866\n",
      "\n",
      "\n",
      "_____________________\n",
      "EPOCH:  115\n"
     ]
    },
    {
     "name": "stderr",
     "output_type": "stream",
     "text": [
      "100%|███████████████████████████████████████████| 15/15 [00:01<00:00, 14.39it/s]\n"
     ]
    },
    {
     "name": "stdout",
     "output_type": "stream",
     "text": [
      "train_loss =  1.1272764046986898\n",
      "Train: accuracy = 0.6069970969945355, F1 = 0.6070856594365764\n",
      "val_loss =  1.153937578201294\n",
      "Test: accuracy = 0.5824742268041238, F1 = 0.5786566794625906\n",
      "\n",
      "\n",
      "_____________________\n",
      "EPOCH:  116\n"
     ]
    },
    {
     "name": "stderr",
     "output_type": "stream",
     "text": [
      "100%|███████████████████████████████████████████| 15/15 [00:01<00:00, 14.26it/s]\n"
     ]
    },
    {
     "name": "stdout",
     "output_type": "stream",
     "text": [
      "train_loss =  1.12689528465271\n",
      "Train: accuracy = 0.6125739981785063, F1 = 0.6132776647783229\n",
      "val_loss =  1.1603267192840576\n",
      "Test: accuracy = 0.5618556701030928, F1 = 0.556829525544947\n",
      "\n",
      "\n",
      "_____________________\n",
      "EPOCH:  117\n"
     ]
    },
    {
     "name": "stderr",
     "output_type": "stream",
     "text": [
      "100%|███████████████████████████████████████████| 15/15 [00:01<00:00, 14.34it/s]\n"
     ]
    },
    {
     "name": "stdout",
     "output_type": "stream",
     "text": [
      "train_loss =  1.1294119040171304\n",
      "Train: accuracy = 0.6092398110200363, F1 = 0.6093862524128985\n",
      "val_loss =  1.156341314315796\n",
      "Test: accuracy = 0.5876288659793815, F1 = 0.5769959449351942\n",
      "\n",
      "\n",
      "_____________________\n",
      "EPOCH:  118\n"
     ]
    },
    {
     "name": "stderr",
     "output_type": "stream",
     "text": [
      "100%|███████████████████████████████████████████| 15/15 [00:01<00:00, 14.23it/s]\n"
     ]
    },
    {
     "name": "stdout",
     "output_type": "stream",
     "text": [
      "train_loss =  1.1354591925938924\n",
      "Train: accuracy = 0.6007527891621129, F1 = 0.6000949865228297\n",
      "val_loss =  1.1663751602172852\n",
      "Test: accuracy = 0.5567010309278351, F1 = 0.543382453682718\n",
      "\n",
      "\n",
      "_____________________\n",
      "EPOCH:  119\n"
     ]
    },
    {
     "name": "stderr",
     "output_type": "stream",
     "text": [
      "100%|███████████████████████████████████████████| 15/15 [00:01<00:00, 14.31it/s]\n"
     ]
    },
    {
     "name": "stdout",
     "output_type": "stream",
     "text": [
      "train_loss =  1.1276846965154013\n",
      "Train: accuracy = 0.610281477686703, F1 = 0.6108025113763353\n",
      "val_loss =  1.158623218536377\n",
      "Test: accuracy = 0.5824742268041238, F1 = 0.5754112271395473\n",
      "\n",
      "\n",
      "_____________________\n",
      "EPOCH:  120\n"
     ]
    },
    {
     "name": "stderr",
     "output_type": "stream",
     "text": [
      "100%|███████████████████████████████████████████| 15/15 [00:01<00:00, 14.37it/s]\n"
     ]
    },
    {
     "name": "stdout",
     "output_type": "stream",
     "text": [
      "train_loss =  1.1242616573969524\n",
      "Train: accuracy = 0.6119478597449909, F1 = 0.6117865262058096\n",
      "val_loss =  1.1568493843078613\n",
      "Test: accuracy = 0.5670103092783505, F1 = 0.5681397602845384\n",
      "\n",
      "\n",
      "_____________________\n",
      "EPOCH:  121\n"
     ]
    },
    {
     "name": "stderr",
     "output_type": "stream",
     "text": [
      "100%|███████████████████████████████████████████| 15/15 [00:01<00:00, 14.28it/s]\n"
     ]
    },
    {
     "name": "stdout",
     "output_type": "stream",
     "text": [
      "train_loss =  1.1309788624445598\n",
      "Train: accuracy = 0.6064776867030965, F1 = 0.6067705422020129\n",
      "val_loss =  1.1540967226028442\n",
      "Test: accuracy = 0.5670103092783505, F1 = 0.5580477829568563\n",
      "\n",
      "\n",
      "_____________________\n",
      "EPOCH:  122\n"
     ]
    },
    {
     "name": "stderr",
     "output_type": "stream",
     "text": [
      "100%|███████████████████████████████████████████| 15/15 [00:01<00:00, 14.46it/s]\n"
     ]
    },
    {
     "name": "stdout",
     "output_type": "stream",
     "text": [
      "train_loss =  1.122994589805603\n",
      "Train: accuracy = 0.6184540072859744, F1 = 0.6163902671796618\n",
      "val_loss =  1.1667429208755493\n",
      "Test: accuracy = 0.5618556701030928, F1 = 0.5576839898585841\n",
      "\n",
      "\n",
      "_____________________\n",
      "EPOCH:  123\n"
     ]
    },
    {
     "name": "stderr",
     "output_type": "stream",
     "text": [
      "100%|███████████████████████████████████████████| 15/15 [00:01<00:00, 14.20it/s]\n"
     ]
    },
    {
     "name": "stdout",
     "output_type": "stream",
     "text": [
      "train_loss =  1.1289616266886393\n",
      "Train: accuracy = 0.6086677481785063, F1 = 0.6078328085073178\n",
      "val_loss =  1.1485267877578735\n",
      "Test: accuracy = 0.5824742268041238, F1 = 0.5827881359854344\n",
      "\n",
      "\n",
      "_____________________\n",
      "EPOCH:  124\n"
     ]
    },
    {
     "name": "stderr",
     "output_type": "stream",
     "text": [
      "100%|███████████████████████████████████████████| 15/15 [00:01<00:00, 14.40it/s]\n"
     ]
    },
    {
     "name": "stdout",
     "output_type": "stream",
     "text": [
      "train_loss =  1.124430521329244\n",
      "Train: accuracy = 0.6091345059198543, F1 = 0.6089143514162385\n",
      "val_loss =  1.1555039882659912\n",
      "Test: accuracy = 0.5824742268041238, F1 = 0.5775561090171826\n",
      "\n",
      "\n",
      "_____________________\n",
      "EPOCH:  125\n"
     ]
    },
    {
     "name": "stderr",
     "output_type": "stream",
     "text": [
      "100%|███████████████████████████████████████████| 15/15 [00:01<00:00, 14.46it/s]\n"
     ]
    },
    {
     "name": "stdout",
     "output_type": "stream",
     "text": [
      "train_loss =  1.1171300490697225\n",
      "Train: accuracy = 0.6199652777777778, F1 = 0.6206386592197547\n",
      "val_loss =  1.1587157249450684\n",
      "Test: accuracy = 0.5670103092783505, F1 = 0.5635161398508364\n",
      "\n",
      "\n",
      "_____________________\n",
      "EPOCH:  126\n"
     ]
    },
    {
     "name": "stderr",
     "output_type": "stream",
     "text": [
      "100%|███████████████████████████████████████████| 15/15 [00:01<00:00, 14.42it/s]\n"
     ]
    },
    {
     "name": "stdout",
     "output_type": "stream",
     "text": [
      "train_loss =  1.1190425872802734\n",
      "Train: accuracy = 0.620437727686703, F1 = 0.6212801895356641\n",
      "val_loss =  1.1503363847732544\n",
      "Test: accuracy = 0.5773195876288659, F1 = 0.5685895869264488\n",
      "\n",
      "\n",
      "_____________________\n",
      "EPOCH:  127\n"
     ]
    },
    {
     "name": "stderr",
     "output_type": "stream",
     "text": [
      "100%|███████████████████████████████████████████| 15/15 [00:01<00:00, 14.31it/s]\n"
     ]
    },
    {
     "name": "stdout",
     "output_type": "stream",
     "text": [
      "train_loss =  1.1224268833796183\n",
      "Train: accuracy = 0.6145491803278689, F1 = 0.6135359091831977\n",
      "val_loss =  1.1578943729400635\n",
      "Test: accuracy = 0.5618556701030928, F1 = 0.5516133179611007\n",
      "\n",
      "\n",
      "_____________________\n",
      "EPOCH:  128\n"
     ]
    },
    {
     "name": "stderr",
     "output_type": "stream",
     "text": [
      "100%|███████████████████████████████████████████| 15/15 [00:01<00:00, 14.44it/s]\n"
     ]
    },
    {
     "name": "stdout",
     "output_type": "stream",
     "text": [
      "train_loss =  1.1186484336853026\n",
      "Train: accuracy = 0.6189791097449909, F1 = 0.6191638887765795\n",
      "val_loss =  1.150515079498291\n",
      "Test: accuracy = 0.5773195876288659, F1 = 0.5708782742328248\n",
      "\n",
      "\n",
      "_____________________\n",
      "EPOCH:  129\n"
     ]
    },
    {
     "name": "stderr",
     "output_type": "stream",
     "text": [
      "100%|███████████████████████████████████████████| 15/15 [00:01<00:00, 14.32it/s]\n"
     ]
    },
    {
     "name": "stdout",
     "output_type": "stream",
     "text": [
      "train_loss =  1.1277151346206664\n",
      "Train: accuracy = 0.6096055327868852, F1 = 0.6096266817252027\n",
      "val_loss =  1.1514045000076294\n",
      "Test: accuracy = 0.5721649484536082, F1 = 0.569325302410439\n",
      "\n",
      "\n",
      "_____________________\n",
      "EPOCH:  130\n"
     ]
    },
    {
     "name": "stderr",
     "output_type": "stream",
     "text": [
      "100%|███████████████████████████████████████████| 15/15 [00:01<00:00, 14.37it/s]\n"
     ]
    },
    {
     "name": "stdout",
     "output_type": "stream",
     "text": [
      "train_loss =  1.12424795627594\n",
      "Train: accuracy = 0.6111153802367942, F1 = 0.6102620824450408\n",
      "val_loss =  1.1482183933258057\n",
      "Test: accuracy = 0.5979381443298969, F1 = 0.600011849474432\n",
      "\n",
      "\n",
      "_____________________\n",
      "EPOCH:  131\n"
     ]
    },
    {
     "name": "stderr",
     "output_type": "stream",
     "text": [
      "100%|███████████████████████████████████████████| 15/15 [00:01<00:00, 14.35it/s]\n"
     ]
    },
    {
     "name": "stdout",
     "output_type": "stream",
     "text": [
      "train_loss =  1.117357889811198\n",
      "Train: accuracy = 0.6224641393442624, F1 = 0.6233605431325416\n",
      "val_loss =  1.1569689512252808\n",
      "Test: accuracy = 0.5567010309278351, F1 = 0.5511929719703315\n",
      "\n",
      "\n",
      "_____________________\n",
      "EPOCH:  132\n"
     ]
    },
    {
     "name": "stderr",
     "output_type": "stream",
     "text": [
      "100%|███████████████████████████████████████████| 15/15 [00:01<00:00, 14.38it/s]\n"
     ]
    },
    {
     "name": "stdout",
     "output_type": "stream",
     "text": [
      "train_loss =  1.120706804593404\n",
      "Train: accuracy = 0.6142389571948998, F1 = 0.6140810335707546\n",
      "val_loss =  1.1531097888946533\n",
      "Test: accuracy = 0.5721649484536082, F1 = 0.5642092720486224\n",
      "\n",
      "\n",
      "_____________________\n",
      "EPOCH:  133\n"
     ]
    },
    {
     "name": "stderr",
     "output_type": "stream",
     "text": [
      "100%|███████████████████████████████████████████| 15/15 [00:01<00:00, 14.30it/s]\n"
     ]
    },
    {
     "name": "stdout",
     "output_type": "stream",
     "text": [
      "train_loss =  1.129201610883077\n",
      "Train: accuracy = 0.605541325136612, F1 = 0.6024928895762578\n",
      "val_loss =  1.144392728805542\n",
      "Test: accuracy = 0.5618556701030928, F1 = 0.5612379738928764\n",
      "\n",
      "\n",
      "_____________________\n",
      "EPOCH:  134\n"
     ]
    },
    {
     "name": "stderr",
     "output_type": "stream",
     "text": [
      "100%|███████████████████████████████████████████| 15/15 [00:01<00:00, 14.34it/s]\n"
     ]
    },
    {
     "name": "stdout",
     "output_type": "stream",
     "text": [
      "train_loss =  1.1286436160405477\n",
      "Train: accuracy = 0.6074667008196722, F1 = 0.6085321158157598\n",
      "val_loss =  1.1669704914093018\n",
      "Test: accuracy = 0.5463917525773195, F1 = 0.5427151438827827\n",
      "\n",
      "\n",
      "_____________________\n",
      "EPOCH:  135\n"
     ]
    },
    {
     "name": "stderr",
     "output_type": "stream",
     "text": [
      "100%|███████████████████████████████████████████| 15/15 [00:01<00:00, 14.42it/s]\n"
     ]
    },
    {
     "name": "stdout",
     "output_type": "stream",
     "text": [
      "train_loss =  1.1282283941904703\n",
      "Train: accuracy = 0.6097592213114754, F1 = 0.6094352894771278\n",
      "val_loss =  1.1485575437545776\n",
      "Test: accuracy = 0.5670103092783505, F1 = 0.5657389911685032\n",
      "\n",
      "\n",
      "_____________________\n",
      "EPOCH:  136\n"
     ]
    },
    {
     "name": "stderr",
     "output_type": "stream",
     "text": [
      "100%|███████████████████████████████████████████| 15/15 [00:01<00:00, 14.42it/s]\n"
     ]
    },
    {
     "name": "stdout",
     "output_type": "stream",
     "text": [
      "train_loss =  1.118817114830017\n",
      "Train: accuracy = 0.6204903802367941, F1 = 0.6187657086929275\n",
      "val_loss =  1.144921898841858\n",
      "Test: accuracy = 0.5773195876288659, F1 = 0.5769772037813274\n",
      "\n",
      "\n",
      "_____________________\n",
      "EPOCH:  137\n"
     ]
    },
    {
     "name": "stderr",
     "output_type": "stream",
     "text": [
      "100%|███████████████████████████████████████████| 15/15 [00:01<00:00, 14.38it/s]\n"
     ]
    },
    {
     "name": "stdout",
     "output_type": "stream",
     "text": [
      "train_loss =  1.1162114222844441\n",
      "Train: accuracy = 0.6224698315118397, F1 = 0.6229946211183506\n",
      "val_loss =  1.152433156967163\n",
      "Test: accuracy = 0.5773195876288659, F1 = 0.5734408419235776\n",
      "\n",
      "\n",
      "_____________________\n",
      "EPOCH:  138\n"
     ]
    },
    {
     "name": "stderr",
     "output_type": "stream",
     "text": [
      "100%|███████████████████████████████████████████| 15/15 [00:01<00:00, 14.19it/s]\n"
     ]
    },
    {
     "name": "stdout",
     "output_type": "stream",
     "text": [
      "train_loss =  1.1156079133351644\n",
      "Train: accuracy = 0.6229878187613843, F1 = 0.6241990089076019\n",
      "val_loss =  1.12918221950531\n",
      "Test: accuracy = 0.5979381443298969, F1 = 0.594264768245102\n",
      "\n",
      "\n",
      "_____________________\n",
      "EPOCH:  139\n"
     ]
    },
    {
     "name": "stderr",
     "output_type": "stream",
     "text": [
      "100%|███████████████████████████████████████████| 15/15 [00:01<00:00, 14.40it/s]\n"
     ]
    },
    {
     "name": "stdout",
     "output_type": "stream",
     "text": [
      "train_loss =  1.128281005223592\n",
      "Train: accuracy = 0.6096553392531876, F1 = 0.6111923465954675\n",
      "val_loss =  1.1424089670181274\n",
      "Test: accuracy = 0.5979381443298969, F1 = 0.5957499912293451\n",
      "\n",
      "\n",
      "_____________________\n",
      "EPOCH:  140\n"
     ]
    },
    {
     "name": "stderr",
     "output_type": "stream",
     "text": [
      "100%|███████████████████████████████████████████| 15/15 [00:01<00:00, 14.32it/s]\n"
     ]
    },
    {
     "name": "stdout",
     "output_type": "stream",
     "text": [
      "train_loss =  1.1214174111684163\n",
      "Train: accuracy = 0.6178378301457195, F1 = 0.6159752257690553\n",
      "val_loss =  1.1680487394332886\n",
      "Test: accuracy = 0.5773195876288659, F1 = 0.5770455504584642\n",
      "\n",
      "\n",
      "_____________________\n",
      "EPOCH:  141\n"
     ]
    },
    {
     "name": "stderr",
     "output_type": "stream",
     "text": [
      "100%|███████████████████████████████████████████| 15/15 [00:01<00:00, 14.31it/s]\n"
     ]
    },
    {
     "name": "stdout",
     "output_type": "stream",
     "text": [
      "train_loss =  1.120025364557902\n",
      "Train: accuracy = 0.6180911316029144, F1 = 0.6183530834460385\n",
      "val_loss =  1.141948938369751\n",
      "Test: accuracy = 0.5927835051546392, F1 = 0.586294060854304\n",
      "\n",
      "\n",
      "_____________________\n",
      "EPOCH:  142\n"
     ]
    },
    {
     "name": "stderr",
     "output_type": "stream",
     "text": [
      "100%|███████████████████████████████████████████| 15/15 [00:01<00:00, 14.35it/s]\n"
     ]
    },
    {
     "name": "stdout",
     "output_type": "stream",
     "text": [
      "train_loss =  1.1260090827941895\n",
      "Train: accuracy = 0.6102302481785064, F1 = 0.608329351840093\n",
      "val_loss =  1.14808189868927\n",
      "Test: accuracy = 0.5670103092783505, F1 = 0.5629093615763036\n",
      "\n",
      "\n",
      "_____________________\n",
      "EPOCH:  143\n"
     ]
    },
    {
     "name": "stderr",
     "output_type": "stream",
     "text": [
      "100%|███████████████████████████████████████████| 15/15 [00:01<00:00, 14.20it/s]\n"
     ]
    },
    {
     "name": "stdout",
     "output_type": "stream",
     "text": [
      "train_loss =  1.12547767162323\n",
      "Train: accuracy = 0.6101761725865209, F1 = 0.6102207272174817\n",
      "val_loss =  1.1707065105438232\n",
      "Test: accuracy = 0.5463917525773195, F1 = 0.545678784143483\n",
      "\n",
      "\n",
      "_____________________\n",
      "EPOCH:  144\n"
     ]
    },
    {
     "name": "stderr",
     "output_type": "stream",
     "text": [
      "100%|███████████████████████████████████████████| 15/15 [00:01<00:00, 14.34it/s]\n"
     ]
    },
    {
     "name": "stdout",
     "output_type": "stream",
     "text": [
      "train_loss =  1.1230870087941487\n",
      "Train: accuracy = 0.6127803392531876, F1 = 0.6131291110705231\n",
      "val_loss =  1.1472114324569702\n",
      "Test: accuracy = 0.5979381443298969, F1 = 0.5956148024313206\n",
      "\n",
      "\n",
      "_____________________\n",
      "EPOCH:  145\n"
     ]
    },
    {
     "name": "stderr",
     "output_type": "stream",
     "text": [
      "100%|███████████████████████████████████████████| 15/15 [00:01<00:00, 14.28it/s]\n"
     ]
    },
    {
     "name": "stdout",
     "output_type": "stream",
     "text": [
      "train_loss =  1.117288851737976\n",
      "Train: accuracy = 0.6214751252276867, F1 = 0.6211166488089882\n",
      "val_loss =  1.1513242721557617\n",
      "Test: accuracy = 0.5927835051546392, F1 = 0.5926104567787415\n",
      "\n",
      "\n",
      "_____________________\n",
      "EPOCH:  146\n"
     ]
    },
    {
     "name": "stderr",
     "output_type": "stream",
     "text": [
      "100%|███████████████████████████████████████████| 15/15 [00:01<00:00, 14.47it/s]\n"
     ]
    },
    {
     "name": "stdout",
     "output_type": "stream",
     "text": [
      "train_loss =  1.1127290646235148\n",
      "Train: accuracy = 0.6279898110200364, F1 = 0.6289469193237842\n",
      "val_loss =  1.1605956554412842\n",
      "Test: accuracy = 0.5773195876288659, F1 = 0.5733280636817619\n",
      "\n",
      "\n",
      "_____________________\n",
      "EPOCH:  147\n"
     ]
    },
    {
     "name": "stderr",
     "output_type": "stream",
     "text": [
      "100%|███████████████████████████████████████████| 15/15 [00:01<00:00, 14.47it/s]\n"
     ]
    },
    {
     "name": "stdout",
     "output_type": "stream",
     "text": [
      "train_loss =  1.1134119749069213\n",
      "Train: accuracy = 0.6231429303278689, F1 = 0.624336948367439\n",
      "val_loss =  1.1569801568984985\n",
      "Test: accuracy = 0.5824742268041238, F1 = 0.5796393509593959\n",
      "\n",
      "\n",
      "_____________________\n",
      "EPOCH:  148\n"
     ]
    },
    {
     "name": "stderr",
     "output_type": "stream",
     "text": [
      "100%|███████████████████████████████████████████| 15/15 [00:01<00:00, 14.41it/s]\n"
     ]
    },
    {
     "name": "stdout",
     "output_type": "stream",
     "text": [
      "train_loss =  1.116642379760742\n",
      "Train: accuracy = 0.6220486111111111, F1 = 0.6226359543604303\n",
      "val_loss =  1.1529995203018188\n",
      "Test: accuracy = 0.5721649484536082, F1 = 0.5725831852279933\n",
      "\n",
      "\n",
      "_____________________\n",
      "EPOCH:  149\n"
     ]
    },
    {
     "name": "stderr",
     "output_type": "stream",
     "text": [
      "100%|███████████████████████████████████████████| 15/15 [00:01<00:00, 14.39it/s]\n"
     ]
    },
    {
     "name": "stdout",
     "output_type": "stream",
     "text": [
      "train_loss =  1.1094485839207968\n",
      "Train: accuracy = 0.630851548269581, F1 = 0.630527059827225\n",
      "val_loss =  1.159997582435608\n",
      "Test: accuracy = 0.5721649484536082, F1 = 0.5680316399657045\n",
      "\n",
      "\n",
      "_____________________\n",
      "EPOCH:  150\n"
     ]
    },
    {
     "name": "stderr",
     "output_type": "stream",
     "text": [
      "100%|███████████████████████████████████████████| 15/15 [00:01<00:00, 14.35it/s]\n"
     ]
    },
    {
     "name": "stdout",
     "output_type": "stream",
     "text": [
      "train_loss =  1.1166317780812582\n",
      "Train: accuracy = 0.6191897199453552, F1 = 0.6194325838086528\n",
      "val_loss =  1.1564507484436035\n",
      "Test: accuracy = 0.5824742268041238, F1 = 0.5793110610931782\n",
      "\n",
      "\n",
      "Finish! Num epochs:  150\n"
     ]
    }
   ],
   "source": [
    "#Train loop\n",
    "print(\"Start training\")\n",
    "loss_hist = []\n",
    "val_loss_hist = []\n",
    "patience = 0\n",
    "lstm_model.to(device)\n",
    "\n",
    "for epoch in range(150):\n",
    "    lstm_model.train(True)\n",
    "    running_loss = 0.0\n",
    "    iters = 0\n",
    "    train_acc = 0\n",
    "    train_f1 = 0\n",
    "    print('_____________________')\n",
    "    print('EPOCH: ', epoch+1)\n",
    "    for i, (lms, label) in enumerate(tqdm(train_loader)):\n",
    "        optimizer.zero_grad()\n",
    "\n",
    "        res = lstm_model(lms.float().to(device))\n",
    "        loss = criterion(res, label.to(device))\n",
    "        loss.backward()\n",
    "        optimizer.step()\n",
    "        running_loss += loss.item()\n",
    "        iters += 1\n",
    "        train_acc += accuracy_score(label, res.cpu().argmax(dim=1))\n",
    "        train_f1 += f1_score(label, res.cpu().argmax(dim=1), average='weighted')\n",
    "    loss_hist.append(running_loss/iters)\n",
    "    train_acc = train_acc/iters\n",
    "    train_f1 = train_f1/iters\n",
    "    \n",
    "    #show results per epoch\n",
    "    print('train_loss = ', running_loss/iters)\n",
    "    print(f'Train: accuracy = {train_acc}, F1 = {train_f1}')\n",
    "\n",
    "    #validating\n",
    "    running_loss = 0.0\n",
    "    iters = 0\n",
    "    test_acc = 0\n",
    "    test_f1 = 0\n",
    "    lstm_model.eval()\n",
    "    with torch.no_grad():\n",
    "        for i ,(test_lms, test_label) in enumerate(test_loader, 0):\n",
    "            val_res = lstm_model(test_lms.float().to(device))\n",
    "            val_loss = criterion(val_res, test_label.to(device))\n",
    "            running_loss += val_loss.item()\n",
    "            iters += 1\n",
    "            test_acc += accuracy_score(test_label, val_res.cpu().argmax(dim=1))\n",
    "            test_f1 += f1_score(test_label, val_res.cpu().argmax(dim=1), average='weighted')\n",
    "        val_loss_hist.append(running_loss/iters)\n",
    "        test_acc = test_acc/iters\n",
    "        test_f1 = test_f1/iters\n",
    "        \n",
    "    #show val results per epoch   \n",
    "    print('val_loss = ', running_loss/iters)\n",
    "    print(f'Test: accuracy = {test_acc}, F1 = {test_f1}')\n",
    "    print('\\n')\n",
    "\n",
    "    #early stop\n",
    "    if epoch > 3:\n",
    "        if val_loss_hist[-1] > val_loss_hist[-2]:\n",
    "            patience += 1\n",
    "        else:\n",
    "            patience = 0\n",
    "    if patience == 8:\n",
    "        break\n",
    "\n",
    "    #save best model\n",
    "    if epoch == 0:\n",
    "        best_f1 = test_f1\n",
    "    else:\n",
    "        if test_f1 > best_f1:\n",
    "            best_f1 = test_f1\n",
    "            torch.save(lstm_model, 'models/lstm_model_best.pth')\n",
    "print('Finish! Num epochs: ', epoch+1)"
   ]
  },
  {
   "cell_type": "code",
   "execution_count": 53,
   "id": "4c0036ec-7b0a-40ab-ad11-14d9a213b441",
   "metadata": {},
   "outputs": [
    {
     "data": {
      "text/plain": [
       "<matplotlib.legend.Legend at 0x2ee161810>"
      ]
     },
     "execution_count": 53,
     "metadata": {},
     "output_type": "execute_result"
    },
    {
     "data": {
      "image/png": "[encoded data removed]",
      "text/plain": [
       "<Figure size 640x480 with 1 Axes>"
      ]
     },
     "metadata": {},
     "output_type": "display_data"
    }
   ],
   "source": [
    "# Графики фнкции потерь  модели\n",
    "plt.plot(loss_hist, label='loss')\n",
    "plt.plot(val_loss_hist, label='val_loss')\n",
    "plt.grid()\n",
    "plt.legend()"
   ]
  },
  {
   "cell_type": "code",
   "execution_count": null,
   "id": "dc1b6db4-3e71-4364-9474-09a04bd7ec21",
   "metadata": {},
   "outputs": [],
   "source": []
  }
 ],
 "metadata": {
  "kernelspec": {
   "display_name": "Python 3 (ipykernel)",
   "language": "python",
   "name": "python3"
  },
  "language_info": {
   "codemirror_mode": {
    "name": "ipython",
    "version": 3
   },
   "file_extension": ".py",
   "mimetype": "text/x-python",
   "name": "python",
   "nbconvert_exporter": "python",
   "pygments_lexer": "ipython3",
   "version": "3.10.14"
  }
 },
 "nbformat": 4,
 "nbformat_minor": 5
}
