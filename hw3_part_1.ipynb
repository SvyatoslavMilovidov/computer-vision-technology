{
 "cells": [
  {
   "cell_type": "code",
   "execution_count": 1,
   "id": "8c11a5cd-c2ce-434a-86fa-8281fadae407",
   "metadata": {},
   "outputs": [],
   "source": [
    "import cv2\n",
    "import glob \n",
    "import os\n",
    "import numpy as np\n",
    "import matplotlib.pyplot as plt\n",
    "from tqdm import tqdm"
   ]
  },
  {
   "cell_type": "code",
   "execution_count": 2,
   "id": "4467af4c-61a0-4e30-a4c8-8f847fd9ffec",
   "metadata": {},
   "outputs": [],
   "source": [
    "labels = glob.glob('DATA/train/*')"
   ]
  },
  {
   "cell_type": "code",
   "execution_count": 3,
   "id": "e49626b0-63a1-420a-9a00-30e05904b658",
   "metadata": {},
   "outputs": [],
   "source": [
    "labels = [el[11:] for el in labels]"
   ]
  },
  {
   "cell_type": "code",
   "execution_count": 4,
   "id": "d193d705-f0b3-4691-8e77-567ba24dd941",
   "metadata": {},
   "outputs": [
    {
     "data": {
      "text/plain": [
       "['dancing charleston',\n",
       " 'dancing gangnam style',\n",
       " 'dancing ballet',\n",
       " 'tango dancing']"
      ]
     },
     "execution_count": 4,
     "metadata": {},
     "output_type": "execute_result"
    }
   ],
   "source": [
    "#определим имена классов\n",
    "labels"
   ]
  },
  {
   "cell_type": "markdown",
   "id": "79adc320",
   "metadata": {},
   "source": [
    "# Data prep"
   ]
  },
  {
   "cell_type": "code",
   "execution_count": null,
   "id": "dff35c8e-f944-4d54-a1a7-4783afcbcbd2",
   "metadata": {},
   "outputs": [],
   "source": [
    "def read_img(path):\n",
    "    cap = cv2.VideoCapture(path)\n",
    "    imgs_list = []\n",
    "    i = 0\n",
    "    while cap.isOpened():\n",
    "        ret, img = cap.read()\n",
    "        if ret == True:\n",
    "            imgs_list.append(cv2.resize(img, (64, 64), interpolation=cv2.INTER_LINEAR))\n",
    "        else: \n",
    "            break\n",
    "    imgs_list = np.asarray(imgs_list)[np.linspace(0, len(imgs_list)-1, 10).astype(np.int8)]\n",
    "    return imgs_list"
   ]
  },
  {
   "cell_type": "code",
   "execution_count": null,
   "id": "085fc111-2017-49c1-ba76-3af16b66f983",
   "metadata": {},
   "outputs": [],
   "source": [
    "def prepare_dataset(labels, train = True):\n",
    "    images = []\n",
    "    labels_list = []\n",
    "    for label in labels:\n",
    "        print('Label = ', label)\n",
    "        if train:\n",
    "            paths = glob.glob('Data/train/'+label+'/*.mp4')\n",
    "        else:\n",
    "            paths = glob.glob('Data/val/'+label+'/*.mp4')\n",
    "        for path in tqdm(paths):\n",
    "            img = read_img(path)\n",
    "            if len(img) == 10:\n",
    "                images.append(img)\n",
    "                labels_list.append(labels.index(label))\n",
    "            else:\n",
    "                print(\"Expected len 10 but got len {} at path: \".format(len(img)), path)\n",
    "    return np.asarray(images), np.asarray(labels_list)"
   ]
  },
  {
   "cell_type": "code",
   "execution_count": 7,
   "id": "48570e68-f7fe-4b70-a8ca-69f4d9a69653",
   "metadata": {
    "scrolled": true
   },
   "outputs": [
    {
     "name": "stdout",
     "output_type": "stream",
     "text": [
      "Label =  dancing charleston\n"
     ]
    },
    {
     "name": "stderr",
     "output_type": "stream",
     "text": [
      "100%|█████████████████████████████████████████| 937/937 [02:00<00:00,  7.76it/s]\n"
     ]
    },
    {
     "name": "stdout",
     "output_type": "stream",
     "text": [
      "Label =  dancing gangnam style\n"
     ]
    },
    {
     "name": "stderr",
     "output_type": "stream",
     "text": [
      "100%|█████████████████████████████████████████| 969/969 [02:05<00:00,  7.74it/s]\n"
     ]
    },
    {
     "name": "stdout",
     "output_type": "stream",
     "text": [
      "Label =  dancing ballet\n"
     ]
    },
    {
     "name": "stderr",
     "output_type": "stream",
     "text": [
      "100%|█████████████████████████████████████████| 934/934 [02:04<00:00,  7.53it/s]\n"
     ]
    },
    {
     "name": "stdout",
     "output_type": "stream",
     "text": [
      "Label =  tango dancing\n"
     ]
    },
    {
     "name": "stderr",
     "output_type": "stream",
     "text": [
      "100%|█████████████████████████████████████████| 927/927 [02:27<00:00,  6.28it/s]\n"
     ]
    }
   ],
   "source": [
    "train_vid, train_lab = prepare_dataset(labels, train = True)"
   ]
  },
  {
   "cell_type": "code",
   "execution_count": 31,
   "id": "fe0355f8-0ce9-4211-9a94-048e301ed961",
   "metadata": {},
   "outputs": [
    {
     "name": "stdout",
     "output_type": "stream",
     "text": [
      "Label =  dancing charleston\n"
     ]
    },
    {
     "name": "stderr",
     "output_type": "stream",
     "text": [
      "100%|███████████████████████████████████████████| 48/48 [00:06<00:00,  6.93it/s]\n"
     ]
    },
    {
     "name": "stdout",
     "output_type": "stream",
     "text": [
      "Label =  dancing gangnam style\n"
     ]
    },
    {
     "name": "stderr",
     "output_type": "stream",
     "text": [
      "100%|███████████████████████████████████████████| 46/46 [00:05<00:00,  7.82it/s]\n"
     ]
    },
    {
     "name": "stdout",
     "output_type": "stream",
     "text": [
      "Label =  dancing ballet\n"
     ]
    },
    {
     "name": "stderr",
     "output_type": "stream",
     "text": [
      "100%|███████████████████████████████████████████| 50/50 [00:06<00:00,  7.86it/s]\n"
     ]
    },
    {
     "name": "stdout",
     "output_type": "stream",
     "text": [
      "Label =  tango dancing\n"
     ]
    },
    {
     "name": "stderr",
     "output_type": "stream",
     "text": [
      "100%|███████████████████████████████████████████| 50/50 [00:08<00:00,  6.23it/s]\n"
     ]
    }
   ],
   "source": [
    "test_vid, test_lab = prepare_dataset(labels, train = False)"
   ]
  },
  {
   "cell_type": "markdown",
   "id": "e189168e-0aad-4bce-abaa-76a1fdc66bbb",
   "metadata": {},
   "source": [
    "# Exp 1 \n",
    "## CNN по одному кадру"
   ]
  },
  {
   "cell_type": "markdown",
   "id": "23f34720",
   "metadata": {},
   "source": [
    "Обучим модель, которая будет определять класс видео по одному отдельному изображению"
   ]
  },
  {
   "cell_type": "code",
   "execution_count": 30,
   "id": "4d965c39-0d3b-46f3-a065-4dbcf10c1274",
   "metadata": {},
   "outputs": [
    {
     "data": {
      "text/plain": [
       "<torch._C.Generator at 0x1668847d0>"
      ]
     },
     "execution_count": 30,
     "metadata": {},
     "output_type": "execute_result"
    }
   ],
   "source": [
    "import torch\n",
    "import torchvision\n",
    "from torch.utils.data import Dataset\n",
    "from sklearn.metrics import accuracy_score, f1_score\n",
    "torch.manual_seed(0)"
   ]
  },
  {
   "cell_type": "code",
   "execution_count": 31,
   "id": "6c258681-c934-4537-b396-0359172bc1f8",
   "metadata": {},
   "outputs": [],
   "source": [
    "device = torch.device(\"mps\")"
   ]
  },
  {
   "cell_type": "code",
   "execution_count": 11,
   "id": "5ba1a1d7-4f8e-41e2-b6ae-36bfefad6037",
   "metadata": {},
   "outputs": [],
   "source": [
    "ed_test_lab = []\n",
    "for el in test_lab:\n",
    "    ed_test_lab.append([el for _ in range(10)])\n",
    "ed_test_lab = np.asarray(ed_test_lab, dtype=np.float32).reshape(194*10)"
   ]
  },
  {
   "cell_type": "code",
   "execution_count": 12,
   "id": "5d9fb32e-9eff-40f7-8991-f404f0be39fe",
   "metadata": {},
   "outputs": [],
   "source": [
    "ed_train_lab = []\n",
    "for el in train_lab:\n",
    "    ed_train_lab.append([el for _ in range(10)])\n",
    "ed_train_lab = np.asarray(ed_train_lab, dtype=np.float32).reshape(len(ed_train_lab)*10)"
   ]
  },
  {
   "cell_type": "code",
   "execution_count": 13,
   "id": "1c087707-6872-40ec-9fd2-acfe28ec0786",
   "metadata": {},
   "outputs": [],
   "source": [
    "class CustomImageDataset(Dataset):\n",
    "    def __init__(self, imgs, labels, transform=None, target_transform=None):\n",
    "        self.imgs = imgs\n",
    "        self.labels = labels\n",
    "        self.transform = transform\n",
    "        self.target_transform = target_transform\n",
    "\n",
    "    def __len__(self):\n",
    "        return len(self.labels)\n",
    "    \n",
    "    def __getitem__(self, idx):\n",
    "        image = self.imgs[idx]\n",
    "        label = self.labels[idx]\n",
    "        if self.transform:\n",
    "            image = self.transform(image)\n",
    "        if self.target_transform:\n",
    "            label = self.target_transform(label)\n",
    "        return image, label"
   ]
  },
  {
   "cell_type": "code",
   "execution_count": 14,
   "id": "727ff443-4215-4757-a7fb-3d98348f1655",
   "metadata": {},
   "outputs": [],
   "source": [
    "dataset_train = CustomImageDataset(train_vid.reshape(len(train_vid)*10, 64, 64, 3), ed_train_lab)\n",
    "train_loader = torch.utils.data.DataLoader(dataset_train, batch_size=256, \n",
    "                                           shuffle=True)"
   ]
  },
  {
   "cell_type": "code",
   "execution_count": 15,
   "id": "6ccc0986-288b-4469-a1e5-2435054cd410",
   "metadata": {},
   "outputs": [],
   "source": [
    "dataset_test = CustomImageDataset(test_vid.reshape(len(test_vid)*10, 64, 64, 3), ed_test_lab)\n",
    "test_loader = torch.utils.data.DataLoader(dataset_test, batch_size=256, \n",
    "                                           shuffle=True)"
   ]
  },
  {
   "cell_type": "code",
   "execution_count": 54,
   "id": "ccd964b7-e869-45f7-a301-a44ee5a13554",
   "metadata": {},
   "outputs": [],
   "source": [
    "#model\n",
    "# модель с предобученным бэкбоном VGG16\n",
    "class VGG16_bn(torch.nn.Module):\n",
    "    def __init__(self):\n",
    "        super(VGG16_bn, self).__init__()\n",
    "        self.vgg16_backbone = torchvision.models.vgg16_bn(weights='DEFAULT').features\n",
    "        self.flatten = torch.nn.Flatten()\n",
    "        self.classif = torch.nn.Sequential(\n",
    "            torch.nn.Linear(2048, 512),\n",
    "            torch.nn.ReLU(),\n",
    "            torch.nn.Linear(512, 256),\n",
    "            torch.nn.ReLU(),\n",
    "            torch.nn.Dropout(p=0.3),\n",
    "            torch.nn.Linear(256, 4),\n",
    "            torch.nn.Softmax(dim=1)\n",
    "        )\n",
    "    def forward(self, x):\n",
    "        x = self.vgg16_backbone(x)\n",
    "        x = self.flatten(x)\n",
    "        x = self.classif(x)\n",
    "        return x"
   ]
  },
  {
   "cell_type": "code",
   "execution_count": 40,
   "id": "334ce3b7-6e35-46e0-b3fb-ed6dcd716c4e",
   "metadata": {
    "scrolled": true
   },
   "outputs": [
    {
     "data": {
      "text/plain": [
       "VGG16_bn(\n",
       "  (vgg16_backbone): Sequential(\n",
       "    (0): Conv2d(3, 64, kernel_size=(3, 3), stride=(1, 1), padding=(1, 1))\n",
       "    (1): BatchNorm2d(64, eps=1e-05, momentum=0.1, affine=True, track_running_stats=True)\n",
       "    (2): ReLU(inplace=True)\n",
       "    (3): Conv2d(64, 64, kernel_size=(3, 3), stride=(1, 1), padding=(1, 1))\n",
       "    (4): BatchNorm2d(64, eps=1e-05, momentum=0.1, affine=True, track_running_stats=True)\n",
       "    (5): ReLU(inplace=True)\n",
       "    (6): MaxPool2d(kernel_size=2, stride=2, padding=0, dilation=1, ceil_mode=False)\n",
       "    (7): Conv2d(64, 128, kernel_size=(3, 3), stride=(1, 1), padding=(1, 1))\n",
       "    (8): BatchNorm2d(128, eps=1e-05, momentum=0.1, affine=True, track_running_stats=True)\n",
       "    (9): ReLU(inplace=True)\n",
       "    (10): Conv2d(128, 128, kernel_size=(3, 3), stride=(1, 1), padding=(1, 1))\n",
       "    (11): BatchNorm2d(128, eps=1e-05, momentum=0.1, affine=True, track_running_stats=True)\n",
       "    (12): ReLU(inplace=True)\n",
       "    (13): MaxPool2d(kernel_size=2, stride=2, padding=0, dilation=1, ceil_mode=False)\n",
       "    (14): Conv2d(128, 256, kernel_size=(3, 3), stride=(1, 1), padding=(1, 1))\n",
       "    (15): BatchNorm2d(256, eps=1e-05, momentum=0.1, affine=True, track_running_stats=True)\n",
       "    (16): ReLU(inplace=True)\n",
       "    (17): Conv2d(256, 256, kernel_size=(3, 3), stride=(1, 1), padding=(1, 1))\n",
       "    (18): BatchNorm2d(256, eps=1e-05, momentum=0.1, affine=True, track_running_stats=True)\n",
       "    (19): ReLU(inplace=True)\n",
       "    (20): Conv2d(256, 256, kernel_size=(3, 3), stride=(1, 1), padding=(1, 1))\n",
       "    (21): BatchNorm2d(256, eps=1e-05, momentum=0.1, affine=True, track_running_stats=True)\n",
       "    (22): ReLU(inplace=True)\n",
       "    (23): MaxPool2d(kernel_size=2, stride=2, padding=0, dilation=1, ceil_mode=False)\n",
       "    (24): Conv2d(256, 512, kernel_size=(3, 3), stride=(1, 1), padding=(1, 1))\n",
       "    (25): BatchNorm2d(512, eps=1e-05, momentum=0.1, affine=True, track_running_stats=True)\n",
       "    (26): ReLU(inplace=True)\n",
       "    (27): Conv2d(512, 512, kernel_size=(3, 3), stride=(1, 1), padding=(1, 1))\n",
       "    (28): BatchNorm2d(512, eps=1e-05, momentum=0.1, affine=True, track_running_stats=True)\n",
       "    (29): ReLU(inplace=True)\n",
       "    (30): Conv2d(512, 512, kernel_size=(3, 3), stride=(1, 1), padding=(1, 1))\n",
       "    (31): BatchNorm2d(512, eps=1e-05, momentum=0.1, affine=True, track_running_stats=True)\n",
       "    (32): ReLU(inplace=True)\n",
       "    (33): MaxPool2d(kernel_size=2, stride=2, padding=0, dilation=1, ceil_mode=False)\n",
       "    (34): Conv2d(512, 512, kernel_size=(3, 3), stride=(1, 1), padding=(1, 1))\n",
       "    (35): BatchNorm2d(512, eps=1e-05, momentum=0.1, affine=True, track_running_stats=True)\n",
       "    (36): ReLU(inplace=True)\n",
       "    (37): Conv2d(512, 512, kernel_size=(3, 3), stride=(1, 1), padding=(1, 1))\n",
       "    (38): BatchNorm2d(512, eps=1e-05, momentum=0.1, affine=True, track_running_stats=True)\n",
       "    (39): ReLU(inplace=True)\n",
       "    (40): Conv2d(512, 512, kernel_size=(3, 3), stride=(1, 1), padding=(1, 1))\n",
       "    (41): BatchNorm2d(512, eps=1e-05, momentum=0.1, affine=True, track_running_stats=True)\n",
       "    (42): ReLU(inplace=True)\n",
       "    (43): MaxPool2d(kernel_size=2, stride=2, padding=0, dilation=1, ceil_mode=False)\n",
       "  )\n",
       "  (flatten): Flatten(start_dim=1, end_dim=-1)\n",
       "  (classif): Sequential(\n",
       "    (0): Linear(in_features=2048, out_features=512, bias=True)\n",
       "    (1): ReLU()\n",
       "    (2): Linear(in_features=512, out_features=256, bias=True)\n",
       "    (3): ReLU()\n",
       "    (4): Dropout(p=0.3, inplace=False)\n",
       "    (5): Linear(in_features=256, out_features=4, bias=True)\n",
       "    (6): Softmax(dim=1)\n",
       "  )\n",
       ")"
      ]
     },
     "execution_count": 40,
     "metadata": {},
     "output_type": "execute_result"
    }
   ],
   "source": [
    "model_base = VGG16_bn()\n",
    "model_base.to(device)"
   ]
  },
  {
   "cell_type": "code",
   "execution_count": 41,
   "id": "9084371e-1e46-471e-a0e1-03a0daf0c140",
   "metadata": {},
   "outputs": [],
   "source": [
    "criterion = torch.nn.CrossEntropyLoss()\n",
    "optimizer = torch.optim.Adam(model_base.parameters(), lr=0.0005)"
   ]
  },
  {
   "cell_type": "markdown",
   "id": "9ffb3c57",
   "metadata": {},
   "source": [
    "Добавим аугментации \"на лету\""
   ]
  },
  {
   "cell_type": "code",
   "execution_count": 43,
   "id": "25826f8e-aba2-4050-9828-48e35875075e",
   "metadata": {},
   "outputs": [],
   "source": [
    "def rotation_pts_tf(img, rotation='180'):\n",
    "    image = img.numpy()\n",
    "    if rotation == '180':\n",
    "        image = cv2.rotate(image, cv2.ROTATE_180)\n",
    "    if rotation == '-90':\n",
    "        image = cv2.rotate(image, cv2.ROTATE_90_COUNTERCLOCKWISE)\n",
    "    if rotation =='+90':\n",
    "        image = cv2.rotate(image, cv2.ROTATE_90_CLOCKWISE)\n",
    "    return torch.from_numpy(image)\n",
    "\n",
    "def batch_augmentation(images):\n",
    "    # get idxs for img augmentation\n",
    "    aug_idxs = np.argwhere(np.random.randint(3, size=len(images))==2).reshape(-1)\n",
    "    aug_types = ['180', '-90', '+90']\n",
    "\n",
    "    for el in aug_idxs:\n",
    "        images[el] = rotation_pts_tf(images[el], rotation=aug_types[np.random.randint(3)])\n",
    "    return images"
   ]
  },
  {
   "cell_type": "code",
   "execution_count": 44,
   "id": "233eaca5-ae7f-4b83-a26f-c3c69998e769",
   "metadata": {
    "scrolled": true
   },
   "outputs": [
    {
     "name": "stdout",
     "output_type": "stream",
     "text": [
      "Start training\n",
      "_____________________\n",
      "EPOCH:  1\n"
     ]
    },
    {
     "name": "stderr",
     "output_type": "stream",
     "text": [
      "100%|█████████████████████████████████████████| 148/148 [05:04<00:00,  2.06s/it]\n"
     ]
    },
    {
     "name": "stdout",
     "output_type": "stream",
     "text": [
      "train_loss =  1.1540615743881948\n",
      "Train: accuracy = 0.5821020959281651, F1 = 0.5710418433750651\n",
      "val_loss =  1.2371476590633392\n",
      "Test: accuracy = 0.49658203125, F1 = 0.4662692328352529\n",
      "\n",
      "\n",
      "_____________________\n",
      "EPOCH:  2\n"
     ]
    },
    {
     "name": "stderr",
     "output_type": "stream",
     "text": [
      "100%|█████████████████████████████████████████| 148/148 [05:03<00:00,  2.05s/it]\n"
     ]
    },
    {
     "name": "stdout",
     "output_type": "stream",
     "text": [
      "train_loss =  1.098100311047322\n",
      "Train: accuracy = 0.6386968794452347, F1 = 0.6349320978237172\n",
      "val_loss =  1.1699497252702713\n",
      "Test: accuracy = 0.5657200168918919, F1 = 0.5601555818340062\n",
      "\n",
      "\n",
      "_____________________\n",
      "EPOCH:  3\n"
     ]
    },
    {
     "name": "stderr",
     "output_type": "stream",
     "text": [
      "100%|█████████████████████████████████████████| 148/148 [05:19<00:00,  2.16s/it]\n"
     ]
    },
    {
     "name": "stdout",
     "output_type": "stream",
     "text": [
      "train_loss =  1.073721099544216\n",
      "Train: accuracy = 0.6627455992176386, F1 = 0.6605387931478697\n",
      "val_loss =  1.1407798677682877\n",
      "Test: accuracy = 0.5881281672297297, F1 = 0.5853084528869057\n",
      "\n",
      "\n",
      "_____________________\n",
      "EPOCH:  4\n"
     ]
    },
    {
     "name": "stderr",
     "output_type": "stream",
     "text": [
      "100%|█████████████████████████████████████████| 148/148 [05:32<00:00,  2.25s/it]\n"
     ]
    },
    {
     "name": "stdout",
     "output_type": "stream",
     "text": [
      "train_loss =  1.0331347906911694\n",
      "Train: accuracy = 0.7043988375711238, F1 = 0.7028473830113103\n",
      "val_loss =  1.1520399898290634\n",
      "Test: accuracy = 0.5791147592905406, F1 = 0.5689799334426204\n",
      "\n",
      "\n",
      "_____________________\n",
      "EPOCH:  5\n"
     ]
    },
    {
     "name": "stderr",
     "output_type": "stream",
     "text": [
      "100%|█████████████████████████████████████████| 148/148 [05:23<00:00,  2.18s/it]\n"
     ]
    },
    {
     "name": "stdout",
     "output_type": "stream",
     "text": [
      "train_loss =  1.0200409381776243\n",
      "Train: accuracy = 0.7180401515825036, F1 = 0.7168908740007272\n",
      "val_loss =  1.1065541207790375\n",
      "Test: accuracy = 0.6231128589527027, F1 = 0.6260938377033216\n",
      "\n",
      "\n",
      "_____________________\n",
      "EPOCH:  6\n"
     ]
    },
    {
     "name": "stderr",
     "output_type": "stream",
     "text": [
      "100%|█████████████████████████████████████████| 148/148 [05:11<00:00,  2.11s/it]\n"
     ]
    },
    {
     "name": "stdout",
     "output_type": "stream",
     "text": [
      "train_loss =  0.9946901826439677\n",
      "Train: accuracy = 0.7437016580725462, F1 = 0.7432297821707832\n",
      "val_loss =  1.1589162051677704\n",
      "Test: accuracy = 0.5744035050675675, F1 = 0.5653777762853396\n",
      "\n",
      "\n",
      "_____________________\n",
      "EPOCH:  7\n"
     ]
    },
    {
     "name": "stderr",
     "output_type": "stream",
     "text": [
      "100%|█████████████████████████████████████████| 148/148 [05:09<00:00,  2.09s/it]\n"
     ]
    },
    {
     "name": "stdout",
     "output_type": "stream",
     "text": [
      "train_loss =  0.995086786312026\n",
      "Train: accuracy = 0.7442086926564723, F1 = 0.7433484380218894\n",
      "val_loss =  1.1581428796052933\n",
      "Test: accuracy = 0.5769108952702703, F1 = 0.5703290129373303\n",
      "\n",
      "\n",
      "_____________________\n",
      "EPOCH:  8\n"
     ]
    },
    {
     "name": "stderr",
     "output_type": "stream",
     "text": [
      "100%|█████████████████████████████████████████| 148/148 [05:09<00:00,  2.09s/it]\n"
     ]
    },
    {
     "name": "stdout",
     "output_type": "stream",
     "text": [
      "train_loss =  0.9893617819289904\n",
      "Train: accuracy = 0.7498777560455192, F1 = 0.7493718536478919\n",
      "val_loss =  1.1196449100971222\n",
      "Test: accuracy = 0.6146669130067568, F1 = 0.6117995443460864\n",
      "\n",
      "\n",
      "Finish! Num epochs:  8\n"
     ]
    }
   ],
   "source": [
    "#Train loop\n",
    "print(\"Start training\")\n",
    "loss_hist = []\n",
    "val_loss_hist = []\n",
    "patience = 0\n",
    "\n",
    "for epoch in range(8):\n",
    "    model_base.train(True)\n",
    "    running_loss = 0.0\n",
    "    iters = 0\n",
    "    train_acc = 0\n",
    "    train_f1 = 0\n",
    "    print('_____________________')\n",
    "    print('EPOCH: ', epoch+1)\n",
    "    for i, (img, label) in enumerate(tqdm(train_loader)):\n",
    "        img = batch_augmentation(img)\n",
    "        img = img.moveaxis(-1, 1)/255\n",
    "        optimizer.zero_grad()\n",
    "\n",
    "        res = model_base.forward(img.to(device))\n",
    "        loss = criterion(res, label.to(device))\n",
    "        loss.backward()\n",
    "        optimizer.step()\n",
    "        running_loss += loss.item()\n",
    "        iters += 1\n",
    "        train_acc += accuracy_score(label, res.cpu().argmax(dim=1))\n",
    "        train_f1 += f1_score(label, res.cpu().argmax(dim=1), average='weighted')\n",
    "    loss_hist.append(running_loss/iters)\n",
    "    train_acc = train_acc/iters\n",
    "    train_f1 = train_f1/iters\n",
    "    \n",
    "    #show results per epoch\n",
    "    print('train_loss = ', running_loss/iters)\n",
    "    print(f'Train: accuracy = {train_acc}, F1 = {train_f1}')\n",
    "\n",
    "    #validating\n",
    "    running_loss = 0.0\n",
    "    iters = 0\n",
    "    test_acc = 0\n",
    "    test_f1 = 0\n",
    "    model_base.eval()\n",
    "    with torch.no_grad():\n",
    "        for i ,(test_img, test_label) in enumerate(test_loader, 0):\n",
    "            test_img = test_img.moveaxis(-1, 1)/255\n",
    "            val_res = model_base.forward(test_img.to(device))\n",
    "            val_loss = criterion(val_res, test_label.to(device))\n",
    "            running_loss += val_loss.item()\n",
    "            iters += 1\n",
    "            test_acc += accuracy_score(test_label, val_res.cpu().argmax(dim=1))\n",
    "            test_f1 += f1_score(test_label, val_res.cpu().argmax(dim=1), average='weighted')\n",
    "        val_loss_hist.append(running_loss/iters)\n",
    "        test_acc = test_acc/iters\n",
    "        test_f1 = test_f1/iters\n",
    "        \n",
    "    #show val results per epoch   \n",
    "    print('val_loss = ', running_loss/iters)\n",
    "    print(f'Test: accuracy = {test_acc}, F1 = {test_f1}')\n",
    "    print('\\n')\n",
    "\n",
    "    #early stop\n",
    "    if epoch > 3:\n",
    "        if val_loss_hist[-1] > val_loss_hist[-2]:\n",
    "            patience += 1\n",
    "        else:\n",
    "            patience = 0\n",
    "    if patience == 4:\n",
    "        break\n",
    "print('Finish! Num epochs: ', epoch+1)"
   ]
  },
  {
   "cell_type": "code",
   "execution_count": 45,
   "id": "58a15488-211b-486d-826e-7f9b151ee998",
   "metadata": {
    "scrolled": true
   },
   "outputs": [
    {
     "data": {
      "text/plain": [
       "VGG16_bn(\n",
       "  (vgg16_backbone): Sequential(\n",
       "    (0): Conv2d(3, 64, kernel_size=(3, 3), stride=(1, 1), padding=(1, 1))\n",
       "    (1): BatchNorm2d(64, eps=1e-05, momentum=0.1, affine=True, track_running_stats=True)\n",
       "    (2): ReLU(inplace=True)\n",
       "    (3): Conv2d(64, 64, kernel_size=(3, 3), stride=(1, 1), padding=(1, 1))\n",
       "    (4): BatchNorm2d(64, eps=1e-05, momentum=0.1, affine=True, track_running_stats=True)\n",
       "    (5): ReLU(inplace=True)\n",
       "    (6): MaxPool2d(kernel_size=2, stride=2, padding=0, dilation=1, ceil_mode=False)\n",
       "    (7): Conv2d(64, 128, kernel_size=(3, 3), stride=(1, 1), padding=(1, 1))\n",
       "    (8): BatchNorm2d(128, eps=1e-05, momentum=0.1, affine=True, track_running_stats=True)\n",
       "    (9): ReLU(inplace=True)\n",
       "    (10): Conv2d(128, 128, kernel_size=(3, 3), stride=(1, 1), padding=(1, 1))\n",
       "    (11): BatchNorm2d(128, eps=1e-05, momentum=0.1, affine=True, track_running_stats=True)\n",
       "    (12): ReLU(inplace=True)\n",
       "    (13): MaxPool2d(kernel_size=2, stride=2, padding=0, dilation=1, ceil_mode=False)\n",
       "    (14): Conv2d(128, 256, kernel_size=(3, 3), stride=(1, 1), padding=(1, 1))\n",
       "    (15): BatchNorm2d(256, eps=1e-05, momentum=0.1, affine=True, track_running_stats=True)\n",
       "    (16): ReLU(inplace=True)\n",
       "    (17): Conv2d(256, 256, kernel_size=(3, 3), stride=(1, 1), padding=(1, 1))\n",
       "    (18): BatchNorm2d(256, eps=1e-05, momentum=0.1, affine=True, track_running_stats=True)\n",
       "    (19): ReLU(inplace=True)\n",
       "    (20): Conv2d(256, 256, kernel_size=(3, 3), stride=(1, 1), padding=(1, 1))\n",
       "    (21): BatchNorm2d(256, eps=1e-05, momentum=0.1, affine=True, track_running_stats=True)\n",
       "    (22): ReLU(inplace=True)\n",
       "    (23): MaxPool2d(kernel_size=2, stride=2, padding=0, dilation=1, ceil_mode=False)\n",
       "    (24): Conv2d(256, 512, kernel_size=(3, 3), stride=(1, 1), padding=(1, 1))\n",
       "    (25): BatchNorm2d(512, eps=1e-05, momentum=0.1, affine=True, track_running_stats=True)\n",
       "    (26): ReLU(inplace=True)\n",
       "    (27): Conv2d(512, 512, kernel_size=(3, 3), stride=(1, 1), padding=(1, 1))\n",
       "    (28): BatchNorm2d(512, eps=1e-05, momentum=0.1, affine=True, track_running_stats=True)\n",
       "    (29): ReLU(inplace=True)\n",
       "    (30): Conv2d(512, 512, kernel_size=(3, 3), stride=(1, 1), padding=(1, 1))\n",
       "    (31): BatchNorm2d(512, eps=1e-05, momentum=0.1, affine=True, track_running_stats=True)\n",
       "    (32): ReLU(inplace=True)\n",
       "    (33): MaxPool2d(kernel_size=2, stride=2, padding=0, dilation=1, ceil_mode=False)\n",
       "    (34): Conv2d(512, 512, kernel_size=(3, 3), stride=(1, 1), padding=(1, 1))\n",
       "    (35): BatchNorm2d(512, eps=1e-05, momentum=0.1, affine=True, track_running_stats=True)\n",
       "    (36): ReLU(inplace=True)\n",
       "    (37): Conv2d(512, 512, kernel_size=(3, 3), stride=(1, 1), padding=(1, 1))\n",
       "    (38): BatchNorm2d(512, eps=1e-05, momentum=0.1, affine=True, track_running_stats=True)\n",
       "    (39): ReLU(inplace=True)\n",
       "    (40): Conv2d(512, 512, kernel_size=(3, 3), stride=(1, 1), padding=(1, 1))\n",
       "    (41): BatchNorm2d(512, eps=1e-05, momentum=0.1, affine=True, track_running_stats=True)\n",
       "    (42): ReLU(inplace=True)\n",
       "    (43): MaxPool2d(kernel_size=2, stride=2, padding=0, dilation=1, ceil_mode=False)\n",
       "  )\n",
       "  (flatten): Flatten(start_dim=1, end_dim=-1)\n",
       "  (classif): Sequential(\n",
       "    (0): Linear(in_features=2048, out_features=512, bias=True)\n",
       "    (1): ReLU()\n",
       "    (2): Linear(in_features=512, out_features=256, bias=True)\n",
       "    (3): ReLU()\n",
       "    (4): Dropout(p=0.3, inplace=False)\n",
       "    (5): Linear(in_features=256, out_features=4, bias=True)\n",
       "    (6): Softmax(dim=1)\n",
       "  )\n",
       ")"
      ]
     },
     "execution_count": 45,
     "metadata": {},
     "output_type": "execute_result"
    }
   ],
   "source": [
    "model_base.cpu()"
   ]
  },
  {
   "cell_type": "code",
   "execution_count": 46,
   "id": "aff7ffc0-777d-407a-bc5b-00ff75df3203",
   "metadata": {},
   "outputs": [],
   "source": [
    "torch.save(model_base, 'models/base_model.pth')"
   ]
  },
  {
   "cell_type": "markdown",
   "id": "a8f4ca39",
   "metadata": {},
   "source": [
    "Прогоним получаемые эмбеддинги через LSTM модель для анализа последовательности"
   ]
  },
  {
   "cell_type": "code",
   "execution_count": 55,
   "id": "d9291679-211e-412f-84ae-c718871278db",
   "metadata": {},
   "outputs": [],
   "source": [
    "class CustomVideoDataset(Dataset):\n",
    "    def __init__(self, labels, transform=None, target_transform=None, train_flag = True):\n",
    "        self.labels = labels\n",
    "        if train_flag:\n",
    "            self.paths = glob.glob('Data/train/*/*.mp4')\n",
    "        else:\n",
    "            self.paths = glob.glob('Data/val/*/*.mp4')\n",
    "        self.transform = transform\n",
    "        self.target_transform = target_transform\n",
    "\n",
    "    def __len__(self):\n",
    "        return len(self.paths)\n",
    "    \n",
    "    def __getitem__(self, idx):\n",
    "        image = self.read_img(self.paths[idx])/255\n",
    "        for i in range(len(self.labels)):\n",
    "            if self.labels[i] in self.paths[idx]:\n",
    "                label = i\n",
    "        if self.transform:\n",
    "            image = self.transform(image)\n",
    "        if self.target_transform:\n",
    "            label = self.target_transform(label)\n",
    "        return np.moveaxis(image, -1, 1), label\n",
    "\n",
    "    def read_img(self, path):\n",
    "        cap = cv2.VideoCapture(path)\n",
    "        imgs_list = []\n",
    "        i = 0\n",
    "        while cap.isOpened():\n",
    "            ret, img = cap.read()\n",
    "            if ret == True:\n",
    "                imgs_list.append(cv2.resize(img, (64, 64), interpolation=cv2.INTER_LINEAR))\n",
    "            else: \n",
    "                break\n",
    "        imgs_list = np.asarray(imgs_list)[np.linspace(0, len(imgs_list)-1, 10).astype(np.int8)]\n",
    "        return imgs_list"
   ]
  },
  {
   "cell_type": "code",
   "execution_count": 56,
   "id": "2ded7164-6678-4f72-9732-0aa3831efd24",
   "metadata": {},
   "outputs": [],
   "source": [
    "test_ds = CustomVideoDataset(labels, train_flag=False)\n",
    "train_ds = CustomVideoDataset(labels)"
   ]
  },
  {
   "cell_type": "code",
   "execution_count": 57,
   "id": "eb0e2bb8-124b-4689-8277-498741fd5152",
   "metadata": {},
   "outputs": [],
   "source": [
    "train_loader = torch.utils.data.DataLoader(train_ds, batch_size=32, \n",
    "                                           shuffle=True)\n",
    "test_loader = torch.utils.data.DataLoader(test_ds, batch_size=32, \n",
    "                                          shuffle=False)"
   ]
  },
  {
   "cell_type": "code",
   "execution_count": 58,
   "id": "91864ea7-1db4-4973-92b4-3819d72ab72e",
   "metadata": {},
   "outputs": [],
   "source": [
    "model_base = VGG16_bn()\n",
    "model_base = torch.load('models/base_model.pth')"
   ]
  },
  {
   "cell_type": "code",
   "execution_count": 59,
   "id": "3b3f736d-726a-4359-adf4-4e43d71a154e",
   "metadata": {},
   "outputs": [],
   "source": [
    "embs_preparing = model_base.vgg16_backbone.float()"
   ]
  },
  {
   "cell_type": "code",
   "execution_count": 60,
   "id": "a7bf677a-4b62-49a7-996c-cd7635f0f6fa",
   "metadata": {},
   "outputs": [],
   "source": [
    "class GRU_embs(torch.nn.Module):\n",
    "    def __init__(self):\n",
    "        super(GRU_embs, self).__init__()\n",
    "        #self.lstm1 = torch.nn.LSTM(2048, 32)\n",
    "        self.lstm1 = torch.nn.GRU(2048, 32)\n",
    "        self.lstm2 = torch.nn.GRU(32, 32)\n",
    "        self.dropout = torch.nn.Dropout(p = 0.4)\n",
    "        self.lin1 = torch.nn.Linear(32*10, 4)\n",
    "        self.softmax1 = torch.nn.Softmax(dim=1)\n",
    "\n",
    "    def forward(self, x):\n",
    "        x, hn = self.lstm1(x)\n",
    "        x, _ = self.lstm2(x, hn)\n",
    "        x = self.dropout(x.view(len(x), -1))\n",
    "        #x = self.lin1(x.view(len(x), -1))\n",
    "        x = self.lin1(x)\n",
    "        x = self.softmax1(x)\n",
    "        return x"
   ]
  },
  {
   "cell_type": "code",
   "execution_count": 61,
   "id": "f84371dc-7cf6-451c-bc9f-b6418d33ee9a",
   "metadata": {},
   "outputs": [],
   "source": [
    "GRU_model = GRU_embs()"
   ]
  },
  {
   "cell_type": "code",
   "execution_count": 62,
   "id": "d240ff4a-37b0-4de8-8012-a5ccfeec5684",
   "metadata": {},
   "outputs": [],
   "source": [
    "criterion = torch.nn.CrossEntropyLoss()\n",
    "optimizer = torch.optim.Adam(GRU_model.parameters(), lr=0.0005)"
   ]
  },
  {
   "cell_type": "code",
   "execution_count": 63,
   "id": "1e81d911-689d-4bd9-b765-b4cc205dd314",
   "metadata": {
    "scrolled": true
   },
   "outputs": [
    {
     "name": "stdout",
     "output_type": "stream",
     "text": [
      "Start training\n",
      "_____________________\n",
      "EPOCH:  1\n"
     ]
    },
    {
     "name": "stderr",
     "output_type": "stream",
     "text": [
      "100%|█████████████████████████████████████████| 118/118 [11:22<00:00,  5.78s/it]\n"
     ]
    },
    {
     "name": "stdout",
     "output_type": "stream",
     "text": [
      "train_loss =  1.0523299564749509\n",
      "Train: accuracy = 0.7846467391304347, F1 = 0.7797366795264237\n",
      "val_loss =  1.1312241213662284\n",
      "Test: accuracy = 0.6071428571428571, F1 = 0.6913141358749687\n",
      "\n",
      "\n",
      "_____________________\n",
      "EPOCH:  2\n"
     ]
    },
    {
     "name": "stderr",
     "output_type": "stream",
     "text": [
      "100%|█████████████████████████████████████████| 118/118 [12:03<00:00,  6.13s/it]\n"
     ]
    },
    {
     "name": "stdout",
     "output_type": "stream",
     "text": [
      "train_loss =  0.8490417756266513\n",
      "Train: accuracy = 0.9034520081061164, F1 = 0.9039174446297716\n",
      "val_loss =  1.1479709148406982\n",
      "Test: accuracy = 0.5848214285714286, F1 = 0.6726317803623186\n",
      "\n",
      "\n",
      "_____________________\n",
      "EPOCH:  3\n"
     ]
    },
    {
     "name": "stderr",
     "output_type": "stream",
     "text": [
      "100%|█████████████████████████████████████████| 118/118 [12:16<00:00,  6.24s/it]\n"
     ]
    },
    {
     "name": "stdout",
     "output_type": "stream",
     "text": [
      "train_loss =  0.8427146147873442\n",
      "Train: accuracy = 0.9027611459100957, F1 = 0.9028126043139104\n",
      "val_loss =  1.1480816006660461\n",
      "Test: accuracy = 0.5848214285714286, F1 = 0.6717823789735843\n",
      "\n",
      "\n",
      "_____________________\n",
      "EPOCH:  4\n"
     ]
    },
    {
     "name": "stderr",
     "output_type": "stream",
     "text": [
      "100%|█████████████████████████████████████████| 118/118 [12:49<00:00,  6.52s/it]\n"
     ]
    },
    {
     "name": "stdout",
     "output_type": "stream",
     "text": [
      "train_loss =  0.8383594675589416\n",
      "Train: accuracy = 0.9066299742078113, F1 = 0.9066186431148097\n",
      "val_loss =  1.1333146861621313\n",
      "Test: accuracy = 0.5892857142857143, F1 = 0.6774311573700303\n",
      "\n",
      "\n",
      "_____________________\n",
      "EPOCH:  5\n"
     ]
    },
    {
     "name": "stderr",
     "output_type": "stream",
     "text": [
      "100%|██████████████████████████████████████| 118/118 [6:56:11<00:00, 211.62s/it]\n"
     ]
    },
    {
     "name": "stdout",
     "output_type": "stream",
     "text": [
      "train_loss =  0.8366055018821005\n",
      "Train: accuracy = 0.9081613854089905, F1 = 0.9083004305994872\n",
      "val_loss =  1.1494989054543632\n",
      "Test: accuracy = 0.5803571428571429, F1 = 0.671722671511743\n",
      "\n",
      "\n",
      "_____________________\n",
      "EPOCH:  6\n"
     ]
    },
    {
     "name": "stderr",
     "output_type": "stream",
     "text": [
      "100%|█████████████████████████████████████████| 118/118 [12:14<00:00,  6.22s/it]\n"
     ]
    },
    {
     "name": "stdout",
     "output_type": "stream",
     "text": [
      "train_loss =  0.836332082243289\n",
      "Train: accuracy = 0.9074705232129698, F1 = 0.9077417186182605\n",
      "val_loss =  1.1441818220274789\n",
      "Test: accuracy = 0.5803571428571429, F1 = 0.6708616519678092\n",
      "\n",
      "\n",
      "_____________________\n",
      "EPOCH:  7\n"
     ]
    },
    {
     "name": "stderr",
     "output_type": "stream",
     "text": [
      "100%|█████████████████████████████████████████| 118/118 [11:51<00:00,  6.03s/it]\n"
     ]
    },
    {
     "name": "stdout",
     "output_type": "stream",
     "text": [
      "train_loss =  0.8330186751939482\n",
      "Train: accuracy = 0.9110745210022108, F1 = 0.9111578987260835\n",
      "val_loss =  1.1359629120145525\n",
      "Test: accuracy = 0.5848214285714286, F1 = 0.676184375221567\n",
      "\n",
      "\n",
      "_____________________\n",
      "EPOCH:  8\n"
     ]
    },
    {
     "name": "stderr",
     "output_type": "stream",
     "text": [
      "100%|█████████████████████████████████████████| 118/118 [12:03<00:00,  6.14s/it]\n"
     ]
    },
    {
     "name": "stdout",
     "output_type": "stream",
     "text": [
      "train_loss =  0.8329216216580343\n",
      "Train: accuracy = 0.9122374723655122, F1 = 0.9122165249200526\n",
      "val_loss =  1.1367366654532296\n",
      "Test: accuracy = 0.6071428571428571, F1 = 0.6915451691498168\n",
      "\n",
      "\n",
      "_____________________\n",
      "EPOCH:  9\n"
     ]
    },
    {
     "name": "stderr",
     "output_type": "stream",
     "text": [
      "100%|█████████████████████████████████████████| 118/118 [13:32<00:00,  6.89s/it]\n"
     ]
    },
    {
     "name": "stdout",
     "output_type": "stream",
     "text": [
      "train_loss =  0.8317340016365051\n",
      "Train: accuracy = 0.9126635040530583, F1 = 0.9126865971844063\n",
      "val_loss =  1.1217375142233712\n",
      "Test: accuracy = 0.59375, F1 = 0.6827941440794406\n",
      "\n",
      "\n",
      "_____________________\n",
      "EPOCH:  10\n"
     ]
    },
    {
     "name": "stderr",
     "output_type": "stream",
     "text": [
      "100%|█████████████████████████████████████████| 118/118 [14:24<00:00,  7.32s/it]\n"
     ]
    },
    {
     "name": "stdout",
     "output_type": "stream",
     "text": [
      "train_loss =  0.8303774140648923\n",
      "Train: accuracy = 0.9126059322033898, F1 = 0.9130540420867949\n",
      "val_loss =  1.1389447280338831\n",
      "Test: accuracy = 0.5892857142857143, F1 = 0.6781236007259831\n",
      "\n",
      "\n",
      "_____________________\n",
      "EPOCH:  11\n"
     ]
    },
    {
     "name": "stderr",
     "output_type": "stream",
     "text": [
      "100%|█████████████████████████████████████████| 118/118 [14:34<00:00,  7.41s/it]\n"
     ]
    },
    {
     "name": "stdout",
     "output_type": "stream",
     "text": [
      "train_loss =  0.827240475658643\n",
      "Train: accuracy = 0.9191230655858512, F1 = 0.9193556142801709\n",
      "val_loss =  1.1482185976845878\n",
      "Test: accuracy = 0.5803571428571429, F1 = 0.671050529888663\n",
      "\n",
      "\n",
      "_____________________\n",
      "EPOCH:  12\n"
     ]
    },
    {
     "name": "stderr",
     "output_type": "stream",
     "text": [
      "100%|█████████████████████████████████████████| 118/118 [14:03<00:00,  7.15s/it]\n"
     ]
    },
    {
     "name": "stdout",
     "output_type": "stream",
     "text": [
      "train_loss =  0.827394220283476\n",
      "Train: accuracy = 0.9184897752394989, F1 = 0.9187046323797291\n",
      "val_loss =  1.1478118470736913\n",
      "Test: accuracy = 0.5803571428571429, F1 = 0.6704029510430863\n",
      "\n",
      "\n",
      "_____________________\n",
      "EPOCH:  13\n"
     ]
    },
    {
     "name": "stderr",
     "output_type": "stream",
     "text": [
      "100%|█████████████████████████████████████████| 118/118 [13:50<00:00,  7.04s/it]\n"
     ]
    },
    {
     "name": "stdout",
     "output_type": "stream",
     "text": [
      "train_loss =  0.8261132103911901\n",
      "Train: accuracy = 0.9187546057479735, F1 = 0.918464745783942\n",
      "val_loss =  1.1350814700126648\n",
      "Test: accuracy = 0.5848214285714286, F1 = 0.6746071172094996\n",
      "\n",
      "\n",
      "_____________________\n",
      "EPOCH:  14\n"
     ]
    },
    {
     "name": "stderr",
     "output_type": "stream",
     "text": [
      "100%|█████████████████████████████████████████| 118/118 [13:44<00:00,  6.98s/it]\n"
     ]
    },
    {
     "name": "stdout",
     "output_type": "stream",
     "text": [
      "train_loss =  0.826208154528828\n",
      "Train: accuracy = 0.9172231945467944, F1 = 0.917645700738698\n",
      "val_loss =  1.1515437364578247\n",
      "Test: accuracy = 0.5848214285714286, F1 = 0.6763684757122713\n",
      "\n",
      "\n",
      "_____________________\n",
      "EPOCH:  15\n"
     ]
    },
    {
     "name": "stderr",
     "output_type": "stream",
     "text": [
      "100%|█████████████████████████████████████████| 118/118 [13:39<00:00,  6.94s/it]\n"
     ]
    },
    {
     "name": "stdout",
     "output_type": "stream",
     "text": [
      "train_loss =  0.8241910762706045\n",
      "Train: accuracy = 0.9203435887988209, F1 = 0.9202186116055487\n",
      "val_loss =  1.1542521800313676\n",
      "Test: accuracy = 0.5803571428571429, F1 = 0.6722735675211283\n",
      "\n",
      "\n",
      "Finish! Num epochs:  15\n"
     ]
    }
   ],
   "source": [
    "#Train loop\n",
    "print(\"Start training\")\n",
    "loss_hist = []\n",
    "val_loss_hist = []\n",
    "patience = 0\n",
    "GRU_model.to(device)\n",
    "embs_preparing.to(device)\n",
    "\n",
    "for epoch in range(15):\n",
    "    GRU_model.train(True)\n",
    "    running_loss = 0.0\n",
    "    iters = 0\n",
    "    train_acc = 0\n",
    "    train_f1 = 0\n",
    "    print('_____________________')\n",
    "    print('EPOCH: ', epoch+1)\n",
    "    for i, (imgs, label) in enumerate(tqdm(train_loader)):\n",
    "        embs = []\n",
    "        with torch.no_grad():\n",
    "            for i in range(len(imgs)):\n",
    "                embs.append(embs_preparing(imgs[i].float().to(device)).reshape(10, -1))\n",
    "            embs = torch.stack(embs)\n",
    "\n",
    "        optimizer.zero_grad()\n",
    "\n",
    "        res = GRU_model(embs)\n",
    "        loss = criterion(res, label.to(device))\n",
    "        loss.backward()\n",
    "        optimizer.step()\n",
    "        running_loss += loss.item()\n",
    "        iters += 1\n",
    "        train_acc += accuracy_score(label, res.cpu().argmax(dim=1))\n",
    "        train_f1 += f1_score(label, res.cpu().argmax(dim=1), average='weighted')\n",
    "    loss_hist.append(running_loss/iters)\n",
    "    train_acc = train_acc/iters\n",
    "    train_f1 = train_f1/iters\n",
    "    \n",
    "    #show results per epoch\n",
    "    print('train_loss = ', running_loss/iters)\n",
    "    print(f'Train: accuracy = {train_acc}, F1 = {train_f1}')\n",
    "\n",
    "    #validating\n",
    "    running_loss = 0.0\n",
    "    iters = 0\n",
    "    test_acc = 0\n",
    "    test_f1 = 0\n",
    "    GRU_model.eval()\n",
    "    with torch.no_grad():\n",
    "        for i ,(test_imgs, test_label) in enumerate(test_loader, 0):\n",
    "            embs = []\n",
    "            for i in range(len(test_imgs)):\n",
    "                embs.append(embs_preparing(test_imgs[i].float().to(device)).reshape(10, -1))\n",
    "            embs = torch.stack(embs)\n",
    "            \n",
    "            val_res = GRU_model.forward(embs)\n",
    "            val_loss = criterion(val_res, test_label.to(device))\n",
    "            running_loss += val_loss.item()\n",
    "            iters += 1\n",
    "            test_acc += accuracy_score(test_label, val_res.cpu().argmax(dim=1))\n",
    "            test_f1 += f1_score(test_label, val_res.cpu().argmax(dim=1), average='weighted')\n",
    "        val_loss_hist.append(running_loss/iters)\n",
    "        test_acc = test_acc/iters\n",
    "        test_f1 = test_f1/iters\n",
    "        \n",
    "    #show val results per epoch   \n",
    "    print('val_loss = ', running_loss/iters)\n",
    "    print(f'Test: accuracy = {test_acc}, F1 = {test_f1}')\n",
    "    print('\\n')\n",
    "\n",
    "    #early stop\n",
    "    if epoch > 3:\n",
    "        if val_loss_hist[-1] > val_loss_hist[-2]:\n",
    "            patience += 1\n",
    "        else:\n",
    "            patience = 0\n",
    "    if patience == 4:\n",
    "        break\n",
    "\n",
    "    #save best model\n",
    "    if epoch == 0:\n",
    "        best_f1 = test_f1\n",
    "    else:\n",
    "        if test_f1 > best_f1:\n",
    "            best_f1 = test_f1\n",
    "            torch.save(GRU_model, 'models/GRU_model_best.pth')\n",
    "print('Finish! Num epochs: ', epoch+1)"
   ]
  },
  {
   "cell_type": "code",
   "execution_count": 64,
   "id": "c297e91f-e74a-46ef-8b6a-a5d1405aa51c",
   "metadata": {},
   "outputs": [
    {
     "data": {
      "text/plain": [
       "<matplotlib.legend.Legend at 0x172edb280>"
      ]
     },
     "execution_count": 64,
     "metadata": {},
     "output_type": "execute_result"
    },
    {
     "data": {
      "image/png": "[encoded data removed]",
      "text/plain": [
       "<Figure size 640x480 with 1 Axes>"
      ]
     },
     "metadata": {},
     "output_type": "display_data"
    }
   ],
   "source": [
    "# Графики функции потерь для LSTM модели\n",
    "plt.plot(loss_hist, label='loss')\n",
    "plt.plot(val_loss_hist, label='val_loss')\n",
    "plt.grid()\n",
    "plt.legend()"
   ]
  }
 ],
 "metadata": {
  "kernelspec": {
   "display_name": "Python 3 (ipykernel)",
   "language": "python",
   "name": "python3"
  },
  "language_info": {
   "codemirror_mode": {
    "name": "ipython",
    "version": 3
   },
   "file_extension": ".py",
   "mimetype": "text/x-python",
   "name": "python",
   "nbconvert_exporter": "python",
   "pygments_lexer": "ipython3",
   "version": "3.10.14"
  }
 },
 "nbformat": 4,
 "nbformat_minor": 5
}
