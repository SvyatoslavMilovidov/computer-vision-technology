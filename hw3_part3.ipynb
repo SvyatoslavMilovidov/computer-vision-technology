{
  "cells": [
    {
      "cell_type": "markdown",
      "metadata": {
        "id": "pPGMU2f0hYda"
      },
      "source": [
        "Colab imports\n"
      ]
    },
    {
      "cell_type": "code",
      "execution_count": null,
      "metadata": {
        "colab": {
          "base_uri": "https://localhost:8080/"
        },
        "id": "rGdYI-gohXGK",
        "outputId": "91061b42-2643-468f-f569-eea82eba90c5"
      },
      "outputs": [
        {
          "name": "stdout",
          "output_type": "stream",
          "text": [
            "Drive already mounted at /content/drive; to attempt to forcibly remount, call drive.mount(\"/content/drive\", force_remount=True).\n"
          ]
        }
      ],
      "source": [
        "from google.colab import drive\n",
        "drive.mount('/content/drive')"
      ]
    },
    {
      "cell_type": "code",
      "execution_count": null,
      "metadata": {
        "colab": {
          "base_uri": "https://localhost:8080/"
        },
        "id": "sSFAqEIa8Ebk",
        "outputId": "8f063589-a6c1-472f-ce05-931618931990"
      },
      "outputs": [
        {
          "name": "stdout",
          "output_type": "stream",
          "text": [
            "/content/drive/MyDrive/work_with_ML/cv_course\n"
          ]
        }
      ],
      "source": [
        "%cd drive/MyDrive/work_with_ML/cv_course/"
      ]
    },
    {
      "cell_type": "markdown",
      "metadata": {
        "id": "F7z98_2MhbAF"
      },
      "source": [
        "# Exp 3\n",
        "## Resnet(2+1)D"
      ]
    },
    {
      "cell_type": "markdown",
      "metadata": {},
      "source": [
        "Проведем обучение моджели в Google Colab. За основу возьмем модель Resnet 2+1 D без предобучения"
      ]
    },
    {
      "cell_type": "code",
      "execution_count": null,
      "metadata": {
        "id": "OwKqo2T3hp2m"
      },
      "outputs": [],
      "source": [
        "import cv2\n",
        "import glob\n",
        "import os\n",
        "import numpy as np\n",
        "import matplotlib.pyplot as plt\n",
        "from tqdm import tqdm\n",
        "import torch\n",
        "import torchvision\n",
        "from torch.utils.data import Dataset\n",
        "from sklearn.metrics import accuracy_score, f1_score"
      ]
    },
    {
      "cell_type": "code",
      "execution_count": null,
      "metadata": {
        "id": "fHynwZ-Phxe0"
      },
      "outputs": [],
      "source": [
        "labels = glob.glob('DATA/train/*')"
      ]
    },
    {
      "cell_type": "code",
      "execution_count": null,
      "metadata": {
        "id": "mIQPmaqphyCg"
      },
      "outputs": [],
      "source": [
        "labels = [el[11:] for el in labels]"
      ]
    },
    {
      "cell_type": "code",
      "execution_count": null,
      "metadata": {
        "colab": {
          "base_uri": "https://localhost:8080/"
        },
        "id": "A5jhBpwkh02s",
        "outputId": "81c32370-e44d-4fdf-c984-3a602a5ae669"
      },
      "outputs": [
        {
          "data": {
            "text/plain": [
              "['dancing charleston',\n",
              " 'dancing gangnam style',\n",
              " 'dancing ballet',\n",
              " 'tango dancing']"
            ]
          },
          "execution_count": 6,
          "metadata": {},
          "output_type": "execute_result"
        }
      ],
      "source": [
        "labels"
      ]
    },
    {
      "cell_type": "code",
      "execution_count": null,
      "metadata": {
        "id": "T3KvH5BKhqXq"
      },
      "outputs": [],
      "source": [
        "device = torch.device(\"cuda\")"
      ]
    },
    {
      "cell_type": "code",
      "execution_count": null,
      "metadata": {
        "id": "REN8SquJ-MCr"
      },
      "outputs": [],
      "source": [
        "class CustomVideoDataset(Dataset):\n",
        "    def __init__(self, labels, transform=None, target_transform=None, train_flag = True):\n",
        "        self.labels = labels\n",
        "        if train_flag:\n",
        "            self.paths = glob.glob('DATA/train/*/*.mp4')\n",
        "        else:\n",
        "            self.paths = glob.glob('DATA/val/*/*.mp4')\n",
        "        self.transform = transform\n",
        "        self.target_transform = target_transform\n",
        "\n",
        "    def __len__(self):\n",
        "        return len(self.paths)\n",
        "\n",
        "    def __getitem__(self, idx):\n",
        "        image = self.read_img(self.paths[idx])/255\n",
        "        for i in range(len(self.labels)):\n",
        "            if self.labels[i] in self.paths[idx]:\n",
        "                label = i\n",
        "        if self.transform:\n",
        "            image = self.transform(image)\n",
        "        if self.target_transform:\n",
        "            label = self.target_transform(label)\n",
        "        return np.moveaxis(image, -1, 1), label\n",
        "\n",
        "    def read_img(self, path):\n",
        "        cap = cv2.VideoCapture(path)\n",
        "        imgs_list = []\n",
        "        i = 0\n",
        "        while cap.isOpened():\n",
        "            ret, img = cap.read()\n",
        "            if ret == True:\n",
        "                imgs_list.append(cv2.resize(img, (64, 64), interpolation=cv2.INTER_LINEAR))\n",
        "            else:\n",
        "                break\n",
        "        imgs_list = np.asarray(imgs_list)[np.linspace(0, len(imgs_list)-1, 10).astype(np.int8)]\n",
        "        return imgs_list"
      ]
    },
    {
      "cell_type": "code",
      "execution_count": null,
      "metadata": {
        "id": "EtSB2T7UEkSA"
      },
      "outputs": [],
      "source": [
        "test_ds = CustomVideoDataset(labels, train_flag=False)\n",
        "train_ds = CustomVideoDataset(labels)\n",
        "\n",
        "train_loader = torch.utils.data.DataLoader(train_ds, batch_size=32,\n",
        "                                           shuffle=True)\n",
        "test_loader = torch.utils.data.DataLoader(test_ds, batch_size=32,\n",
        "                                          shuffle=False)"
      ]
    },
    {
      "cell_type": "code",
      "execution_count": null,
      "metadata": {
        "colab": {
          "base_uri": "https://localhost:8080/"
        },
        "id": "IF2c3iPnQP__",
        "outputId": "5755922f-cd50-490f-b6f6-775bdef90fa0"
      },
      "outputs": [
        {
          "name": "stderr",
          "output_type": "stream",
          "text": [
            "/usr/local/lib/python3.10/dist-packages/torchvision/models/_utils.py:208: UserWarning: The parameter 'pretrained' is deprecated since 0.13 and may be removed in the future, please use 'weights' instead.\n",
            "  warnings.warn(\n",
            "/usr/local/lib/python3.10/dist-packages/torchvision/models/_utils.py:223: UserWarning: Arguments other than a weight enum or `None` for 'weights' are deprecated since 0.13 and may be removed in the future. The current behavior is equivalent to passing `weights=None`.\n",
            "  warnings.warn(msg)\n"
          ]
        }
      ],
      "source": [
        "resnet = torchvision.models.video.r2plus1d_18(pretrained=False, progress=True)"
      ]
    },
    {
      "cell_type": "code",
      "execution_count": null,
      "metadata": {
        "id": "oNOzyA7zQwtc"
      },
      "outputs": [],
      "source": [
        "#Поверх rensnet добавим линейный слой для классификации 4 классов\n",
        "class Resnet_model(torch.nn.Module):\n",
        "  def __init__(self, resnet):\n",
        "    super(Resnet_model, self).__init__()\n",
        "    self.resnet = resnet\n",
        "    self.lin = torch.nn.Linear(400, 4)\n",
        "    self.sm = torch.nn.Softmax(dim = 1)\n",
        "\n",
        "\n",
        "  def forward(self, x):\n",
        "    x = self.resnet(x)\n",
        "    x = self.lin(x)\n",
        "    x = self.sm(x)\n",
        "    return x\n"
      ]
    },
    {
      "cell_type": "code",
      "execution_count": null,
      "metadata": {
        "id": "xcxv69AKSWGR"
      },
      "outputs": [],
      "source": [
        "resnet_model = Resnet_model(resnet)"
      ]
    },
    {
      "cell_type": "code",
      "execution_count": null,
      "metadata": {
        "id": "-5C6cYENUeGo"
      },
      "outputs": [],
      "source": [
        "criterion = torch.nn.CrossEntropyLoss()\n",
        "optimizer = torch.optim.Adam(resnet_model.parameters(), lr=0.005)"
      ]
    },
    {
      "cell_type": "code",
      "execution_count": null,
      "metadata": {
        "colab": {
          "base_uri": "https://localhost:8080/"
        },
        "id": "-Nvyiq7cIOQP",
        "outputId": "79375bce-a9e8-4b0d-8dc8-56f73e294246"
      },
      "outputs": [
        {
          "name": "stdout",
          "output_type": "stream",
          "text": [
            "Start training\n",
            "_____________________\n",
            "EPOCH:  1\n"
          ]
        },
        {
          "name": "stderr",
          "output_type": "stream",
          "text": [
            "100%|██████████| 118/118 [1:00:46<00:00, 30.91s/it]\n"
          ]
        },
        {
          "name": "stdout",
          "output_type": "stream",
          "text": [
            "train_loss =  1.4028598110554582\n",
            "Train: accuracy = 0.26868782240235817, F1 = 0.17398236880684279\n",
            "val_loss =  1.3992339372634888\n",
            "Test: accuracy = 0.25, F1 = 0.30644146946795664\n",
            "\n",
            "\n",
            "_____________________\n",
            "EPOCH:  2\n"
          ]
        },
        {
          "name": "stderr",
          "output_type": "stream",
          "text": [
            "100%|██████████| 118/118 [30:02<00:00, 15.27s/it]\n"
          ]
        },
        {
          "name": "stdout",
          "output_type": "stream",
          "text": [
            "train_loss =  1.3951922675310555\n",
            "Train: accuracy = 0.2779453758290346, F1 = 0.20951398577655458\n",
            "val_loss =  1.3700848647526331\n",
            "Test: accuracy = 0.3482142857142857, F1 = 0.43402607468555127\n",
            "\n",
            "\n",
            "_____________________\n",
            "EPOCH:  3\n"
          ]
        },
        {
          "name": "stderr",
          "output_type": "stream",
          "text": [
            "100%|██████████| 118/118 [30:19<00:00, 15.42s/it]\n"
          ]
        },
        {
          "name": "stdout",
          "output_type": "stream",
          "text": [
            "train_loss =  1.3794419745267448\n",
            "Train: accuracy = 0.3143422991893884, F1 = 0.2513599617069062\n",
            "val_loss =  1.3533661024911063\n",
            "Test: accuracy = 0.2857142857142857, F1 = 0.3715336461057241\n",
            "\n",
            "\n",
            "_____________________\n",
            "EPOCH:  4\n"
          ]
        },
        {
          "name": "stderr",
          "output_type": "stream",
          "text": [
            " 25%|██▌       | 30/118 [07:30<21:37, 14.74s/it]"
          ]
        }
      ],
      "source": [
        "#Train loop\n",
        "print(\"Start training\")\n",
        "loss_hist = []\n",
        "val_loss_hist = []\n",
        "patience = 0\n",
        "resnet_model.to(device)\n",
        "\n",
        "for epoch in range(8):\n",
        "    resnet_model.train(True)\n",
        "    running_loss = 0.0\n",
        "    iters = 0\n",
        "    train_acc = 0\n",
        "    train_f1 = 0\n",
        "    print('_____________________')\n",
        "    print('EPOCH: ', epoch+1)\n",
        "    for i, (img, label) in enumerate(tqdm(train_loader)):\n",
        "        optimizer.zero_grad()\n",
        "\n",
        "        res = resnet_model(img.float().moveaxis(2, 1).to(device))\n",
        "        loss = criterion(res, label.to(device))\n",
        "        loss.backward()\n",
        "        optimizer.step()\n",
        "        running_loss += loss.item()\n",
        "        iters += 1\n",
        "        train_acc += accuracy_score(label, res.cpu().argmax(dim=1))\n",
        "        train_f1 += f1_score(label, res.cpu().argmax(dim=1), average='weighted')\n",
        "    loss_hist.append(running_loss/iters)\n",
        "    train_acc = train_acc/iters\n",
        "    train_f1 = train_f1/iters\n",
        "\n",
        "    #show results per epoch\n",
        "    print('train_loss = ', running_loss/iters)\n",
        "    print(f'Train: accuracy = {train_acc}, F1 = {train_f1}')\n",
        "\n",
        "    #validating\n",
        "    running_loss = 0.0\n",
        "    iters = 0\n",
        "    test_acc = 0\n",
        "    test_f1 = 0\n",
        "    resnet_model.eval()\n",
        "    with torch.no_grad():\n",
        "        for i ,(test_img, test_label) in enumerate(test_loader, 0):\n",
        "            val_res = resnet_model(test_img.float().moveaxis(2, 1).to(device))\n",
        "            val_loss = criterion(val_res, test_label.to(device))\n",
        "            running_loss += val_loss.item()\n",
        "            iters += 1\n",
        "            test_acc += accuracy_score(test_label, val_res.cpu().argmax(dim=1))\n",
        "            test_f1 += f1_score(test_label, val_res.cpu().argmax(dim=1), average='weighted')\n",
        "        val_loss_hist.append(running_loss/iters)\n",
        "        test_acc = test_acc/iters\n",
        "        test_f1 = test_f1/iters\n",
        "\n",
        "    #show val results per epoch\n",
        "    print('val_loss = ', running_loss/iters)\n",
        "    print(f'Test: accuracy = {test_acc}, F1 = {test_f1}')\n",
        "    print('\\n')\n",
        "\n",
        "    #early stop\n",
        "    if epoch > 3:\n",
        "        if val_loss_hist[-1] > val_loss_hist[-2]:\n",
        "            patience += 1\n",
        "        else:\n",
        "            patience = 0\n",
        "    if patience == 4:\n",
        "        break\n",
        "        #save best model\n",
        "    if epoch == 0:\n",
        "        best_f1 = test_f1\n",
        "    else:\n",
        "        if test_f1 > best_f1:\n",
        "            best_f1 = test_f1\n",
        "            torch.save(resnet_model, 'models/resnet_model_best.pth')\n",
        "print('Finish! Num epochs: ', epoch+1)"
      ]
    },
    {
      "cell_type": "code",
      "execution_count": null,
      "metadata": {
        "id": "gghBscBYToyc"
      },
      "outputs": [],
      "source": [
        "torch.save(resnet_model, 'models/resnet_model_last.pth')"
      ]
    },
    {
      "cell_type": "code",
      "execution_count": null,
      "metadata": {
        "id": "2rydXnIGUtz5"
      },
      "outputs": [],
      "source": []
    }
  ],
  "metadata": {
    "accelerator": "GPU",
    "colab": {
      "gpuType": "T4",
      "provenance": []
    },
    "kernelspec": {
      "display_name": "Python 3",
      "name": "python3"
    },
    "language_info": {
      "name": "python"
    }
  },
  "nbformat": 4,
  "nbformat_minor": 0
}
